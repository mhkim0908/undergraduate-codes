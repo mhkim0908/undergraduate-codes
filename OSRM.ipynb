{
  "nbformat": 4,
  "nbformat_minor": 0,
  "metadata": {
    "colab": {
      "name": "OSRM.ipynb",
      "provenance": [],
      "machine_shape": "hm",
      "authorship_tag": "ABX9TyM5T8SU3rek1lueTKpkxf9V",
      "include_colab_link": true
    },
    "kernelspec": {
      "name": "python3",
      "display_name": "Python 3"
    }
  },
  "cells": [
    {
      "cell_type": "markdown",
      "metadata": {
        "id": "view-in-github",
        "colab_type": "text"
      },
      "source": [
        "<a href=\"https://colab.research.google.com/github/mhkim0908/undergraduate-codes/blob/main/OSRM.ipynb\" target=\"_parent\"><img src=\"https://colab.research.google.com/assets/colab-badge.svg\" alt=\"Open In Colab\"/></a>"
      ]
    },
    {
      "cell_type": "code",
      "metadata": {
        "id": "ydRModgZ9jF7"
      },
      "source": [
        "import requests\n",
        "import json\n",
        "import folium\n",
        "import folium.plugins as fp\n",
        "import numpy as np"
      ],
      "execution_count": null,
      "outputs": []
    },
    {
      "cell_type": "markdown",
      "metadata": {
        "id": "l-uVVlbdHYiV"
      },
      "source": [
        "http://router.project-osrm.org/{service}/{version}/{profile}/{coordinates}[.{format}]?option=value&option=val\n",
        "\\\n",
        "example : url = 'http://router.project-osrm.org/route/v1/driving/{coordinates}?alternatives={true|false|number}&steps={true|false}&geometries={polyline|polyline6|geojson}&overview={full|simplified|false}&annotations={true|false}'\n",
        "\n",
        "service : route , nearest , table , match , trip , tile \\\n",
        "version : v1 \\\n",
        "profile : osrm-extract, car, bike, foot \\\n",
        "coordinates : {lon},{lat};{lon},{lat}; ... \\\n",
        "format은 option인데 json밖에 지원안하고, 생략가능 \\\n",
        "option은 말 그대로 옵션이고, 생략가능, \\\n",
        "option : bearings, radiuses, generate_hints, hints, approaches 등 \\ \n"
      ]
    },
    {
      "cell_type": "code",
      "metadata": {
        "id": "LfP1FCTeDevS"
      },
      "source": [
        "params = (\n",
        "    ('overview', 'full'),('steps','false'),('alternatives','3'),('geometries', 'geojson')\n",
        ")\n",
        "url = 'http://router.project-osrm.org/route/v1/foot/126.835952,37.292144;126.836587,37.314848'\n",
        "response = requests.get(url, params=params)\n",
        "response= response.json()"
      ],
      "execution_count": null,
      "outputs": []
    },
    {
      "cell_type": "code",
      "metadata": {
        "id": "Hq1O1CJIpbyc"
      },
      "source": [
        "(((response['routes'])[1])['geometry']['coordinates'])"
      ],
      "execution_count": null,
      "outputs": []
    },
    {
      "cell_type": "code",
      "metadata": {
        "id": "SyG4VDkMLQ5w"
      },
      "source": [
        "cord =(((response['routes'])[0])['geometry']['coordinates'])\n",
        "for each in np.arange(0,len(cord)):\n",
        "    cord[each].reverse()"
      ],
      "execution_count": null,
      "outputs": []
    },
    {
      "cell_type": "code",
      "metadata": {
        "id": "hv_zs_JhqCWG"
      },
      "source": [
        "cord2 = (((response['routes'])[1])['geometry']['coordinates'])\n",
        "for each in np.arange(0,len(cord2)):\n",
        "    cord2[each].reverse()"
      ],
      "execution_count": null,
      "outputs": []
    },
    {
      "cell_type": "code",
      "metadata": {
        "id": "QepvOT1hDnfO",
        "colab": {
          "base_uri": "https://localhost:8080/",
          "height": 35
        },
        "outputId": "bb3850d5-290c-4b5c-82ce-48bbb83e9ca3"
      },
      "source": [
        "len(cord2)"
      ],
      "execution_count": null,
      "outputs": [
        {
          "output_type": "execute_result",
          "data": {
            "text/plain": [
              "79"
            ]
          },
          "metadata": {
            "tags": []
          },
          "execution_count": 7
        }
      ]
    },
    {
      "cell_type": "code",
      "metadata": {
        "id": "K-JWpYCKMvKq",
        "colab": {
          "base_uri": "https://localhost:8080/",
          "height": 781
        },
        "outputId": "f5da3820-b222-4cac-9912-5f8afc1f9a40"
      },
      "source": [
        "m2= folium.Map(location=[37.296947, 126.858183], zoom_start=10)\n",
        "\n",
        "fg1 = folium.FeatureGroup(name='Routes 1', show=True)\n",
        "m2.add_child(fg1)\n",
        "fg2 = folium.FeatureGroup(name='Routes 2', show=True)\n",
        "m2.add_child(fg2)\n",
        "\n",
        "#polyline\n",
        "folium.PolyLine(cord,popup='Route1',color='red', opacity=0.7,weight=((response['routes'])[0])['weight']*0.01).add_to(m2).add_to(fg1)\n",
        "folium.PolyLine(cord2,popup='Route2',color='blue', opacity=0.7,weight=((response['routes'])[1])['weight']*0.01).add_to(m2).add_to(fg2)\n",
        "\n",
        "for i in np.arange(0,len(cord2)):\n",
        "    if i == 0:\n",
        "        folium.Marker(cord2[i],popup='Starting Point', icon=folium.Icon(icon='star',color='blue')).add_to(m2).add_to(fg2)\n",
        "    elif i == len(cord2)-1:\n",
        "        folium.Marker(cord2[i],popup='Target Point', icon=folium.Icon(icon='flag',color='blue')).add_to(m2).add_to(fg2)\n",
        "    \n",
        "\n",
        "folium.LayerControl(collapsed=False).add_to(m2)\n",
        "\n",
        "m2"
      ],
      "execution_count": null,
      "outputs": [
        {
          "output_type": "execute_result",
          "data": {
            "text/html": [
              "<div style=\"width:100%;\"><div style=\"position:relative;width:100%;height:0;padding-bottom:60%;\"><span style=\"color:#565656\">Make this Notebook Trusted to load map: File -> Trust Notebook</span><iframe src=\"about:blank\" style=\"position:absolute;width:100%;height:100%;left:0;top:0;border:none !important;\" data-html=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 onload=\"this.contentDocument.open();this.contentDocument.write(atob(this.getAttribute('data-html')));this.contentDocument.close();\" allowfullscreen webkitallowfullscreen mozallowfullscreen></iframe></div></div>"
            ],
            "text/plain": [
              "<folium.folium.Map at 0x7febc6e1ea20>"
            ]
          },
          "metadata": {
            "tags": []
          },
          "execution_count": 8
        }
      ]
    }
  ]
}