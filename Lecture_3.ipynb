{
  "nbformat": 4,
  "nbformat_minor": 0,
  "metadata": {
    "colab": {
      "name": "Lecture#3김민혁.ipynb",
      "provenance": [],
      "collapsed_sections": [],
      "mount_file_id": "12RgKwfz81foizlMs9MIiDFJBQKTQkxL5",
      "authorship_tag": "ABX9TyNTFIxmUpeDbngPh7T/wZu5",
      "include_colab_link": true
    },
    "kernelspec": {
      "name": "python3",
      "display_name": "Python 3"
    }
  },
  "cells": [
    {
      "cell_type": "markdown",
      "metadata": {
        "id": "view-in-github",
        "colab_type": "text"
      },
      "source": [
        "<a href=\"https://colab.research.google.com/github/mhkim0908/undergraduate-codes/blob/main/Lecture_3.ipynb\" target=\"_parent\"><img src=\"https://colab.research.google.com/assets/colab-badge.svg\" alt=\"Open In Colab\"/></a>"
      ]
    },
    {
      "cell_type": "markdown",
      "metadata": {
        "id": "pEJriGNspH7J"
      },
      "source": [
        "# Lecture 3\n",
        "written by **MINHYEOK KIM** (2016008077, Dept. of Applied physics)\n",
        "\n",
        "> Contents :  Basic of Python\n",
        "\n",
        "*   ***For*** Loops\n",
        "*   User defined Functions\n",
        "*   Examples - Investigate prime numbers\n"
      ]
    },
    {
      "cell_type": "markdown",
      "metadata": {
        "id": "ZKdJFYaml-u5"
      },
      "source": [
        "##3-1. For Loops\n",
        "Python’s ***for*** statement iterates over the items of any sequence (a list or a string), in the order that they appear in the sequence."
      ]
    },
    {
      "cell_type": "code",
      "metadata": {
        "id": "D738hZw4iBYl"
      },
      "source": [
        "physicists = ['Einstein','Faraday','Bohr','Schrodinger']\n",
        "for i in physicists:\n",
        "    print(i,len(i))"
      ],
      "execution_count": null,
      "outputs": []
    },
    {
      "cell_type": "markdown",
      "metadata": {
        "id": "T0VzMNrjto17"
      },
      "source": [
        "By using ***range()*** fucntion, you can iterate over a sequence of numbers. It generates arithmetic progressions i.e., create an interator. If you want to convert to a list, you can use ***list()*** function. For example, \n",
        "```Python\n",
        "list(range(5))\n",
        "```"
      ]
    },
    {
      "cell_type": "code",
      "metadata": {
        "colab": {
          "base_uri": "https://localhost:8080/"
        },
        "id": "mRWt_ZdEtpUG",
        "outputId": "5d177bdb-9ea2-427d-d853-9d2e25d95d9b"
      },
      "source": [
        "#range(5) srart with 0 and going up to 4 not 5\n",
        "for i in range(5):\n",
        "    print(i)\n",
        "print('============')\n",
        "#you can also give start point and end point.\n",
        "\n",
        "for i in range(10,15):\n",
        "    print(i**2)\n",
        "print('============')\n",
        "#you can also give start point and end point and 'steps'.\n",
        "for i in range(20,2,-3):\n",
        "    print(i)\n",
        "print('============')\n",
        "for n in range(5):\n",
        "    print('Hello world')\n",
        "print('============')\n",
        "\n",
        "#We can use break \n",
        "for n in range(10):\n",
        "    print('I an trying to break this for loop...')\n",
        "    if n>=6 :\n",
        "        break\n",
        "print('============')\n",
        "#We can also use continue\n",
        "for n in range(10):\n",
        "    if n>=2:\n",
        "        continue\n",
        "    print('How does continue function work?')\n",
        "#continue function ignore rest of loop and 'continue' new loop from first"
      ],
      "execution_count": null,
      "outputs": [
        {
          "output_type": "stream",
          "text": [
            "0\n",
            "1\n",
            "2\n",
            "3\n",
            "4\n",
            "============\n",
            "100\n",
            "121\n",
            "144\n",
            "169\n",
            "196\n",
            "============\n",
            "20\n",
            "17\n",
            "14\n",
            "11\n",
            "8\n",
            "5\n",
            "============\n",
            "Hello world\n",
            "Hello world\n",
            "Hello world\n",
            "Hello world\n",
            "Hello world\n",
            "============\n",
            "I an trying to break this for loop...\n",
            "I an trying to break this for loop...\n",
            "I an trying to break this for loop...\n",
            "I an trying to break this for loop...\n",
            "I an trying to break this for loop...\n",
            "I an trying to break this for loop...\n",
            "I an trying to break this for loop...\n",
            "============\n",
            "How continue function work?\n",
            "How continue function work?\n"
          ],
          "name": "stdout"
        }
      ]
    },
    {
      "cell_type": "code",
      "metadata": {
        "colab": {
          "base_uri": "https://localhost:8080/"
        },
        "id": "_APkT9tXuKGP",
        "outputId": "d71edf06-5cd9-42df-faa1-8ec702f4b4ae"
      },
      "source": [
        "r = [1,3,5]\n",
        "for n in r:\n",
        "    print(n)\n",
        "    print(2*n)\n",
        "print('Finished')\n",
        "\n",
        "# If you use normal division instead of interger division, It will raise an error\n",
        "for n in range(10//2):\n",
        "    print(n)"
      ],
      "execution_count": null,
      "outputs": [
        {
          "output_type": "stream",
          "text": [
            "1\n",
            "2\n",
            "3\n",
            "6\n",
            "5\n",
            "10\n",
            "Finished\n",
            "0\n",
            "1\n",
            "2\n",
            "3\n",
            "4\n"
          ],
          "name": "stdout"
        }
      ]
    },
    {
      "cell_type": "markdown",
      "metadata": {
        "id": "L4tarX4dtrsj"
      },
      "source": [
        "Instead of built-in ***range()*** fucntion, you can use ***arange()*** function from **numpy** module. ***numpy.arange()*** has some advantage compare to arange(). First, it generates arrays, rather than lists or iterators. Secondly, It works with floating-point arguments!"
      ]
    },
    {
      "cell_type": "code",
      "metadata": {
        "colab": {
          "base_uri": "https://localhost:8080/"
        },
        "id": "4BcuoJbatrM5",
        "outputId": "9c7a9978-5108-4819-8ec4-e96bce341a22"
      },
      "source": [
        "import numpy as np\n",
        "print(np.arange(1.0,5.0,0.1))"
      ],
      "execution_count": null,
      "outputs": [
        {
          "output_type": "stream",
          "text": [
            "[1.  1.1 1.2 1.3 1.4 1.5 1.6 1.7 1.8 1.9 2.  2.1 2.2 2.3 2.4 2.5 2.6 2.7\n",
            " 2.8 2.9 3.  3.1 3.2 3.3 3.4 3.5 3.6 3.7 3.8 3.9 4.  4.1 4.2 4.3 4.4 4.5\n",
            " 4.6 4.7 4.8 4.9]\n"
          ],
          "name": "stdout"
        }
      ]
    },
    {
      "cell_type": "markdown",
      "metadata": {
        "id": "CzpEr3DMzics"
      },
      "source": [
        "As like ***numpy.arrange()***, we can also use ***numpy.linspace***. It generates an array with a given number of floating-point vaules between given limits. It return evenly spaced numbers over a specified interval.Returns num evenly spaced samples, calculated over the interval [start, stop].The endpoint of the interval can optionally be excluded."
      ]
    },
    {
      "cell_type": "code",
      "metadata": {
        "colab": {
          "base_uri": "https://localhost:8080/"
        },
        "id": "CYPYbvv8z3mm",
        "outputId": "781f7c34-cb33-4377-a252-59b4c4dae905"
      },
      "source": [
        "print(np.linspace(2.0,2.8,5))\n",
        "np.linspace()\n",
        "print(np.linspace(2.0,2.8,3))"
      ],
      "execution_count": null,
      "outputs": [
        {
          "output_type": "stream",
          "text": [
            "[2.  2.2 2.4 2.6 2.8]\n",
            "[2.  2.4 2.8]\n"
          ],
          "name": "stdout"
        }
      ]
    },
    {
      "cell_type": "code",
      "metadata": {
        "colab": {
          "base_uri": "https://localhost:8080/"
        },
        "id": "6csLcmXM0Uo4",
        "outputId": "c9584724-b691-4f53-bd90-2a884a785793"
      },
      "source": [
        "s = 0.0\n",
        "for k in range(1,101):\n",
        "    s += 1/k\n",
        "print(s)\n",
        "\n",
        "print(sum((1/np.arange(1,101))))"
      ],
      "execution_count": null,
      "outputs": [
        {
          "output_type": "stream",
          "text": [
            "5.187377517639621\n",
            "5.187377517639621\n"
          ],
          "name": "stdout"
        }
      ]
    },
    {
      "cell_type": "code",
      "metadata": {
        "colab": {
          "base_uri": "https://localhost:8080/"
        },
        "id": "fe7WoOUpwjao",
        "outputId": "e6584855-8b7c-4fb2-d972-8c68ea468e90"
      },
      "source": [
        "#Calculate from Values.txt \n",
        "import numpy as np\n",
        "values = np.loadtxt('''/content/drive/MyDrive/values.txt''', float)\n",
        "s = 0.0\n",
        "for k in values:\n",
        "    s += k**2\n",
        "print(s)\n",
        "\n",
        "print(sum((values**2)))"
      ],
      "execution_count": null,
      "outputs": [
        {
          "output_type": "stream",
          "text": [
            "338.382096873006\n",
            "338.382096873006\n"
          ],
          "name": "stdout"
        }
      ]
    },
    {
      "cell_type": "markdown",
      "metadata": {
        "id": "F6Yope0k16JJ"
      },
      "source": [
        "## 3-2 User-Defined Functions\n",
        "A function is a set of statements that take inputs, do some specific computation and produce output. The idea is to put some commonly or repeatedly done tasks together and make a function so that instead of writing the same code again and again for different inputs, we can call the function.\n",
        "\n",
        "Functions that readily comes with Python are called built-in functions. Python provides built-in functions like print(), etc. but we can also create your own functions. These functions are known as user defines functions.\n",
        "\n",
        "All the functions that are written by any us comes under the category of user defined functions. Below are the steps for writing user defined functions in Python.\n",
        "\n",
        "*   In Python, def keyword is used to declare user defined functions.\n",
        "*   An indented block of statements follows the function name and arguments which contains the body of the function.\n",
        "*   The function may take arguments(s) also called parameters as input within the opening and closing parentheses, just after the function name followed by a colon.\n",
        "*   Any variables created inside the definition of a function exist only inside that function. (local variables)\n",
        "*   Functions can have more than one argument\n",
        "\n",
        "```python\n",
        "def function_name(argument1, argument2, ...):\n",
        "    statements\n",
        "    .\n",
        "    .\n",
        "    return expression\n",
        "\n",
        "```"
      ]
    },
    {
      "cell_type": "markdown",
      "metadata": {
        "id": "aCCFkmZOXuVn"
      },
      "source": [
        "Belows are some examples."
      ]
    },
    {
      "cell_type": "code",
      "metadata": {
        "colab": {
          "base_uri": "https://localhost:8080/"
        },
        "id": "n7o-o3rI1r5c",
        "outputId": "60804887-134e-4dc4-a771-2806e22c5563"
      },
      "source": [
        "#Factorial function.\n",
        "def factorial(n):\n",
        "    f = 1.0\n",
        "    for k in range(1,n+1):\n",
        "        f *= k \n",
        "    return f\n",
        "\n",
        "factorial(3)"
      ],
      "execution_count": null,
      "outputs": [
        {
          "output_type": "execute_result",
          "data": {
            "text/plain": [
              "6.0"
            ]
          },
          "metadata": {
            "tags": []
          },
          "execution_count": 16
        }
      ]
    },
    {
      "cell_type": "code",
      "metadata": {
        "colab": {
          "base_uri": "https://localhost:8080/"
        },
        "id": "5gIIhwqL09fL",
        "outputId": "66818c2b-b7f1-4ecd-827a-7aeef379e0ef"
      },
      "source": [
        "def fac(n):\n",
        "    if n==1:\n",
        "        return 1\n",
        "    return n*fac(n-1)\n",
        "\n",
        "fac(5)"
      ],
      "execution_count": null,
      "outputs": [
        {
          "output_type": "execute_result",
          "data": {
            "text/plain": [
              "120"
            ]
          },
          "metadata": {
            "tags": []
          },
          "execution_count": 13
        }
      ]
    },
    {
      "cell_type": "code",
      "metadata": {
        "colab": {
          "base_uri": "https://localhost:8080/"
        },
        "id": "BsEFY40N2Buf",
        "outputId": "1a38183c-49fe-4c5b-96fd-065935fc2a03"
      },
      "source": [
        "#Distance function\n",
        "import numpy as np\n",
        "\n",
        "def distance(r,theta,z):\n",
        "    x = r*np.cos(theta)\n",
        "    y = r*np.sin(theta)\n",
        "    d = np.sqrt(x**2 + y**2 + z**2)\n",
        "    return d\n",
        "\n",
        "distance(2, np.pi/3, 3)"
      ],
      "execution_count": null,
      "outputs": [
        {
          "output_type": "execute_result",
          "data": {
            "text/plain": [
              "3.605551275463989"
            ]
          },
          "metadata": {
            "tags": []
          },
          "execution_count": 19
        }
      ]
    },
    {
      "cell_type": "markdown",
      "metadata": {
        "id": "uEIttbTIYY_P"
      },
      "source": [
        "The value returned by a function can also be of any type. "
      ]
    },
    {
      "cell_type": "code",
      "metadata": {
        "colab": {
          "base_uri": "https://localhost:8080/"
        },
        "id": "ddwR0GR2YPTK",
        "outputId": "b598991e-bc24-404a-adbf-a50fc61b068b"
      },
      "source": [
        "def cartesian(r,theta):\n",
        "    x= r* np.cos(theta) \n",
        "    y = r*np.sin(theta)\n",
        "    position = [x,y]\n",
        "    return position #return [x,y] list\n",
        "\n",
        "print(cartesian(10,np.pi/6),type(cartesian(10,np.pi/6)))"
      ],
      "execution_count": null,
      "outputs": [
        {
          "output_type": "stream",
          "text": [
            "[8.660254037844387, 4.999999999999999] <class 'list'>\n"
          ],
          "name": "stdout"
        }
      ]
    },
    {
      "cell_type": "markdown",
      "metadata": {
        "id": "knKlMnUWY50C"
      },
      "source": [
        "Also, you can return muliple value or even non-value when if you not use ***return()***."
      ]
    },
    {
      "cell_type": "code",
      "metadata": {
        "colab": {
          "base_uri": "https://localhost:8080/"
        },
        "id": "E6EYZ_OnZO4i",
        "outputId": "abf54107-9926-4160-f4c4-8dcd2aa0c4fa"
      },
      "source": [
        "def multiple(z):\n",
        "    x = z+ 100\n",
        "    y = z - 100\n",
        "    return x,y\n",
        "\n",
        "print(multiple(100))\n",
        "#We can do multiple assignmnet with our function's value.\n",
        "a,b = multiple (100)\n",
        "print(a)\n",
        "print(b)"
      ],
      "execution_count": null,
      "outputs": [
        {
          "output_type": "stream",
          "text": [
            "(200, 0)\n",
            "200\n",
            "0\n"
          ],
          "name": "stdout"
        }
      ]
    },
    {
      "cell_type": "markdown",
      "metadata": {
        "id": "SKLsSavsZ_uj"
      },
      "source": [
        "To apply your function to all the elements of a list or array, you can use map function."
      ]
    },
    {
      "cell_type": "code",
      "metadata": {
        "colab": {
          "base_uri": "https://localhost:8080/"
        },
        "id": "W8Xt3VcUZq9D",
        "outputId": "33608d5d-444a-439c-cb95-a4bafaa3f4f0"
      },
      "source": [
        "def maptest(z):\n",
        "    x = z+ 100\n",
        "    return(x)\n",
        "\n",
        "myoldlist = [1,2,3,4,5]\n",
        "mynewlist = list(map(maptest, myoldlist))\n",
        "print(mynewlist)"
      ],
      "execution_count": null,
      "outputs": [
        {
          "output_type": "stream",
          "text": [
            "[101, 102, 103, 104, 105]\n"
          ],
          "name": "stdout"
        }
      ]
    },
    {
      "cell_type": "markdown",
      "metadata": {
        "id": "6XkBUpdKbcL1"
      },
      "source": [
        "Lambda Forms:\n",
        "\n",
        "In Python, small anonymous (unnamed) functions can be created with lambda keyword. Lambda forms can be used as an argument to other function where function objects are required but syntactically they are restricted to a single expression. A function like this:"
      ]
    },
    {
      "cell_type": "code",
      "metadata": {
        "colab": {
          "base_uri": "https://localhost:8080/"
        },
        "id": "nUYbNnDtbdoK",
        "outputId": "e303436d-aa53-44c3-c6ff-53ea054ae597"
      },
      "source": [
        "def average(x, y):\n",
        "    return (x + y)/2\n",
        "print(average(4, 3))"
      ],
      "execution_count": null,
      "outputs": [
        {
          "output_type": "stream",
          "text": [
            "3.5\n"
          ],
          "name": "stdout"
        }
      ]
    },
    {
      "cell_type": "markdown",
      "metadata": {
        "id": "Jlnhr97gblYZ"
      },
      "source": [
        "may also be defined using ***lambda***\n",
        "\n"
      ]
    },
    {
      "cell_type": "code",
      "metadata": {
        "colab": {
          "base_uri": "https://localhost:8080/"
        },
        "id": "rLw602bvbiub",
        "outputId": "f49f5b92-f48b-484c-db6c-b72e5fa6a05b"
      },
      "source": [
        "print((lambda x, y: (x + y)/2)(4, 3))"
      ],
      "execution_count": null,
      "outputs": [
        {
          "output_type": "stream",
          "text": [
            "3.5\n"
          ],
          "name": "stdout"
        }
      ]
    },
    {
      "cell_type": "markdown",
      "metadata": {
        "id": "ub7MlN7KcZnC"
      },
      "source": [
        "Examples: Prime facors and prime numbers \n",
        "\n",
        "We have an interger n and want to know its prime facors. The prime factors can be calculated by dividing repeatedly by all integers from 2 up to n and checking to see if the remainder is zero.\n"
      ]
    },
    {
      "cell_type": "code",
      "metadata": {
        "colab": {
          "base_uri": "https://localhost:8080/"
        },
        "id": "pChtOJvd3m8N",
        "outputId": "eef13ec2-b05e-43e0-e4f0-9bf6f3ab446f"
      },
      "source": [
        "def factors(n):\n",
        "\n",
        "    factorlist=[]\n",
        "    k=2\n",
        "    while k<=n :\n",
        "        while n%k ==0:\n",
        "            factorlist.append(k)\n",
        "            n//=k\n",
        "        k+=1\n",
        "    return factorlist\n",
        "\n",
        "factors(100)"
      ],
      "execution_count": null,
      "outputs": [
        {
          "output_type": "execute_result",
          "data": {
            "text/plain": [
              "[2, 2, 5, 5]"
            ]
          },
          "metadata": {
            "tags": []
          },
          "execution_count": 56
        }
      ]
    },
    {
      "cell_type": "markdown",
      "metadata": {
        "id": "0WoRXPZzc6mx"
      },
      "source": [
        "We can use the function ***factors(n)*** to make a program that prints out the prime numbers up to any limit we choose by checking to see if they have only a single prime factor."
      ]
    },
    {
      "cell_type": "code",
      "metadata": {
        "colab": {
          "base_uri": "https://localhost:8080/"
        },
        "id": "10qP98t06eQX",
        "outputId": "1a891cde-4375-4a5a-8aaa-56993e2fd098"
      },
      "source": [
        "primelist=[]\n",
        "for n in range(2,1000):\n",
        "    if len(factorss(n)) == 1:\n",
        "        primelist.append(n)\n",
        "print(primelist)"
      ],
      "execution_count": null,
      "outputs": [
        {
          "output_type": "stream",
          "text": [
            "[2, 3, 5, 7, 11, 13, 17, 19, 23, 29, 31, 37, 41, 43, 47, 53, 59, 61, 67, 71, 73, 79, 83, 89, 97, 101, 103, 107, 109, 113, 127, 131, 137, 139, 149, 151, 157, 163, 167, 173, 179, 181, 191, 193, 197, 199, 211, 223, 227, 229, 233, 239, 241, 251, 257, 263, 269, 271, 277, 281, 283, 293, 307, 311, 313, 317, 331, 337, 347, 349, 353, 359, 367, 373, 379, 383, 389, 397, 401, 409, 419, 421, 431, 433, 439, 443, 449, 457, 461, 463, 467, 479, 487, 491, 499, 503, 509, 521, 523, 541, 547, 557, 563, 569, 571, 577, 587, 593, 599, 601, 607, 613, 617, 619, 631, 641, 643, 647, 653, 659, 661, 673, 677, 683, 691, 701, 709, 719, 727, 733, 739, 743, 751, 757, 761, 769, 773, 787, 797, 809, 811, 821, 823, 827, 829, 839, 853, 857, 859, 863, 877, 881, 883, 887, 907, 911, 919, 929, 937, 941, 947, 953, 967, 971, 977, 983, 991, 997]\n"
          ],
          "name": "stdout"
        }
      ]
    },
    {
      "cell_type": "markdown",
      "metadata": {
        "id": "syoLufYIdI5C"
      },
      "source": [
        "## 3-3 Example - Prime numbers \n",
        "A number $n$ is prime if it has no prime factors less than $n$. Hence, we only need to check if it is divisible by other primes.\n",
        "\n",
        "If a number $n$ is non-prime, having a factor $r$, then $𝑛=𝑟𝑠$, where s is also a factor. If $𝑟≥\\sqrt{𝑛}$ then $𝑛=𝑟𝑠≥\\sqrt{𝑛} 𝑠$, which implies that $𝑠≤\\sqrt{𝑛}$. In other words, any non-prime must have factors, and hence also prime factors, less than or equal to $\\sqrt{𝑛}$. Thus to determine if a number is prime we have to check its prime factors only up to and including $\\sqrt{𝑛}$ – if there are none then the number is prime.\n",
        "\n",
        "If we find even a single prime factor less than $\\sqrt{𝑛}$ then we know that the number is non-prime, and hence there is no need to check any further – we can abandon this number and move on to something else.\n"
      ]
    },
    {
      "cell_type": "code",
      "metadata": {
        "id": "8uG-ENeOFje4"
      },
      "source": [
        "def prime_list(n):\n",
        "    k=2\n",
        "    m = int(n**0.5)\n",
        "    checklist = list(range(2,n+1)) #Make a list of candidates\n",
        "    while k <= m:                    #We are only need to check up to sqrt(n)\n",
        "        for i in checklist: \n",
        "            if i%k == 0:            #If the result of the modulo operation is 0,\n",
        "                for j in range (i+i, n+1, i): \n",
        "                    try:\n",
        "                        checklist.remove(j)   #Delete multiples of them from the candidate group\n",
        "                    except ValueError:\n",
        "                        continue                            #Ignore the ValueError - It occurs when there are no numbers to be deleted from the candidate group.\n",
        "        k+=1\n",
        "    \n",
        "    return checklist\n",
        "#=============================================================================================================================================================================\n",
        "\n",
        "# This method is from wikipedia. https://ko.wikipedia.org/wiki/%EC%97%90%EB%9D%BC%ED%86%A0%EC%8A%A4%ED%85%8C%EB%84%A4%EC%8A%A4%EC%9D%98_%EC%B2%B4\n",
        "\n",
        "def prime_list_wikipedia(n):\n",
        "\n",
        "    # 에라토스테네스의 체 초기화: n개 요소에 True 설정(소수로 간주)\n",
        "    sieve = [True] * n\n",
        "\n",
        "    # n의 최대 약수가 sqrt(n) 이하이므로 i=sqrt(n)까지 검사\n",
        "    m = int(n ** 0.5)\n",
        "    result =[]\n",
        "    for i in range(2, m + 1):\n",
        "        if sieve[i] == True:           # i가 소수인 경우\n",
        "            for j in range(i+i, n, i): # i이후 i의 배수들을 False 판정\n",
        "                sieve[j] = False\n",
        "\n",
        "    for x in range(2, n):\n",
        "         if sieve[x] == True:\n",
        "             result.append(x)\n",
        "\n",
        "    return result\n",
        "#=============================================================================================================================================================================\n"
      ],
      "execution_count": null,
      "outputs": []
    },
    {
      "cell_type": "code",
      "metadata": {
        "colab": {
          "base_uri": "https://localhost:8080/",
          "height": 172
        },
        "id": "8GtHwLvDGsIj",
        "outputId": "c26b5030-41af-40f9-ec25-9f4bc356375b"
      },
      "source": [
        "prime_list_wikipedia(5000)[2020]"
      ],
      "execution_count": null,
      "outputs": [
        {
          "output_type": "error",
          "ename": "IndexError",
          "evalue": "ignored",
          "traceback": [
            "\u001b[0;31m---------------------------------------------------------------------------\u001b[0m",
            "\u001b[0;31mIndexError\u001b[0m                                Traceback (most recent call last)",
            "\u001b[0;32m<ipython-input-26-11f7a0db255b>\u001b[0m in \u001b[0;36m<module>\u001b[0;34m()\u001b[0m\n\u001b[0;32m----> 1\u001b[0;31m \u001b[0mprime_list_wikipedia\u001b[0m\u001b[0;34m(\u001b[0m\u001b[0;36m5000\u001b[0m\u001b[0;34m)\u001b[0m\u001b[0;34m[\u001b[0m\u001b[0;36m2020\u001b[0m\u001b[0;34m]\u001b[0m\u001b[0;34m\u001b[0m\u001b[0;34m\u001b[0m\u001b[0m\n\u001b[0m",
            "\u001b[0;31mIndexError\u001b[0m: list index out of range"
          ]
        }
      ]
    },
    {
      "cell_type": "code",
      "metadata": {
        "colab": {
          "base_uri": "https://localhost:8080/"
        },
        "id": "J-MX7HDuNNe-",
        "outputId": "a6153a3c-a71c-4d57-db4f-23aad88bdcc5"
      },
      "source": [
        "print(int(100**0.5))"
      ],
      "execution_count": null,
      "outputs": [
        {
          "output_type": "stream",
          "text": [
            "10\n"
          ],
          "name": "stdout"
        }
      ]
    },
    {
      "cell_type": "code",
      "metadata": {
        "id": "ZfEy9fs_G630"
      },
      "source": [
        "def nth_prime(n):\n",
        "    m = 100\n",
        "    while True:\n",
        "        k=2\n",
        "        checklist = list(range(2,m+1)) #Make a list of candidates\n",
        "        while k <= int(m**0.5):                    #We are only need to check up to sqrt(n)\n",
        "            for i in checklist: \n",
        "                if i%k == 0:            #If the result of the modulo operation is 0,\n",
        "                    for j in range (i+i, m+1, i): \n",
        "                        try:\n",
        "                            checklist.remove(j)   #Delete multiples of them from the candidate group\n",
        "                        except ValueError:\n",
        "                            continue                            #Ignore the ValueError - It occurs when there are no numbers to be deleted from the candidate group.\n",
        "            k+=1\n",
        "        try: \n",
        "            checklist[n-1]\n",
        "            break\n",
        "        except IndexError:\n",
        "            m *= 2\n",
        "    \n",
        "    return checklist[n-1]\n",
        "\n"
      ],
      "execution_count": null,
      "outputs": []
    },
    {
      "cell_type": "code",
      "metadata": {
        "colab": {
          "base_uri": "https://localhost:8080/"
        },
        "id": "BbPyNk7pOr2-",
        "outputId": "fabfdae3-55db-40cf-b81d-e10e7d62c50e"
      },
      "source": [
        "nth_prime(2021)"
      ],
      "execution_count": null,
      "outputs": [
        {
          "output_type": "execute_result",
          "data": {
            "text/plain": [
              "17579"
            ]
          },
          "metadata": {
            "tags": []
          },
          "execution_count": 18
        }
      ]
    },
    {
      "cell_type": "markdown",
      "metadata": {
        "id": "7-t3mc1xbpMI"
      },
      "source": [
        "# References\n",
        "*    https://ko.wikipedia.org/wiki/%EC%97%90%EB%9D%BC%ED%86%A0%EC%8A%A4%ED%85%8C%EB%84%A4%EC%8A%A4%EC%9D%98_%EC%B2%B4\n",
        "*    https://www.geeksforgeeks.org/python-user-defined-functions/\n",
        "*    https://www.w3resource.com/python/python-user-defined-functions.php"
      ]
    }
  ]
}