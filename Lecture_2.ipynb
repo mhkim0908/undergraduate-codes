{
  "nbformat": 4,
  "nbformat_minor": 0,
  "metadata": {
    "colab": {
      "name": "Lecture#2_김민혁",
      "provenance": [],
      "collapsed_sections": [],
      "include_colab_link": true
    },
    "kernelspec": {
      "name": "python3",
      "display_name": "Python 3"
    }
  },
  "cells": [
    {
      "cell_type": "markdown",
      "metadata": {
        "id": "view-in-github",
        "colab_type": "text"
      },
      "source": [
        "<a href=\"https://colab.research.google.com/github/mhkim0908/undergraduate-codes/blob/main/Lecture_2.ipynb\" target=\"_parent\"><img src=\"https://colab.research.google.com/assets/colab-badge.svg\" alt=\"Open In Colab\"/></a>"
      ]
    },
    {
      "cell_type": "markdown",
      "metadata": {
        "id": "mh0sXcIbWBOb"
      },
      "source": [
        "# Lecture 2\n",
        "written by **MINHYEOK KIM** (2016008077, Dept. of Applied physics)\n",
        "\n",
        "> Contents :  Basic of Python\n",
        "\n",
        "*   Modules & Packages\n",
        "*   Built-in Functions\n",
        "*   Flow control\n",
        "*   Data Types\n",
        "\n",
        "\n",
        "\n"
      ]
    },
    {
      "cell_type": "markdown",
      "metadata": {
        "id": "p8Lyga4VW6p4"
      },
      "source": [
        "## 2-1. Modules and Packages\n",
        "**A module** is a file containing Python definitions and statements. The file name is the module name with the *suffix .py* appended. Within a module, the module’s name (as a string) is available as the value of the global variable $ __name__$. \n",
        "\n",
        "**Packages** are a way of structuring Python’s module namespace by using “dotted module names”. For example, the module name A.B designates a submodule named B in a package named A. Just like the use of modules saves the authors of different modules from having to worry about each other’s global variable names, the use of dotted module names saves the authors of multi-module packages like **NumPy** or **Pillow** from having to worry about each other’s module names.\n",
        "\n",
        "To sum it up, Packages are collections of modules, and the modules are collections of functions. \n",
        "\n",
        "For instance, we'll look at the **math** module.\n",
        "\n",
        "To use this module, we have to get module by using an **import** statement.\n",
        "\n",
        "    import math\n",
        "If the package (or module) name is followed by **as**, then the name following **as** is bound directly to the imported package. This is effectively importing the package or module in the same way, with the only difference of it being available as user-defiened name.\n",
        "\n"
      ]
    },
    {
      "cell_type": "code",
      "metadata": {
        "colab": {
          "base_uri": "https://localhost:8080/"
        },
        "id": "VJ-A1tRBp0WK",
        "outputId": "d9cb5669-ac5c-4f0f-b54e-c5e6cea719f8"
      },
      "source": [
        "import math as mh\n",
        "mh.cos(mh.pi)"
      ],
      "execution_count": null,
      "outputs": [
        {
          "output_type": "execute_result",
          "data": {
            "text/plain": [
              "-1.0"
            ]
          },
          "metadata": {
            "tags": []
          },
          "execution_count": 1
        }
      ]
    },
    {
      "cell_type": "markdown",
      "metadata": {
        "id": "J0hLWvUppzjc"
      },
      "source": [
        "The Math module provides access to the mathematical functions defined by the C standard. You can check which function does it have by using built-in function ***dir()***"
      ]
    },
    {
      "cell_type": "code",
      "metadata": {
        "colab": {
          "base_uri": "https://localhost:8080/"
        },
        "id": "cMY4rEMBUT-Y",
        "outputId": "42b475f3-1a4e-4b92-fe96-2619231de9f2"
      },
      "source": [
        "import math\n",
        "dir(math)"
      ],
      "execution_count": null,
      "outputs": [
        {
          "output_type": "execute_result",
          "data": {
            "text/plain": [
              "['__doc__',\n",
              " '__loader__',\n",
              " '__name__',\n",
              " '__package__',\n",
              " '__spec__',\n",
              " 'acos',\n",
              " 'acosh',\n",
              " 'asin',\n",
              " 'asinh',\n",
              " 'atan',\n",
              " 'atan2',\n",
              " 'atanh',\n",
              " 'ceil',\n",
              " 'copysign',\n",
              " 'cos',\n",
              " 'cosh',\n",
              " 'degrees',\n",
              " 'e',\n",
              " 'erf',\n",
              " 'erfc',\n",
              " 'exp',\n",
              " 'expm1',\n",
              " 'fabs',\n",
              " 'factorial',\n",
              " 'floor',\n",
              " 'fmod',\n",
              " 'frexp',\n",
              " 'fsum',\n",
              " 'gamma',\n",
              " 'gcd',\n",
              " 'hypot',\n",
              " 'inf',\n",
              " 'isclose',\n",
              " 'isfinite',\n",
              " 'isinf',\n",
              " 'isnan',\n",
              " 'ldexp',\n",
              " 'lgamma',\n",
              " 'log',\n",
              " 'log10',\n",
              " 'log1p',\n",
              " 'log2',\n",
              " 'modf',\n",
              " 'nan',\n",
              " 'pi',\n",
              " 'pow',\n",
              " 'radians',\n",
              " 'remainder',\n",
              " 'sin',\n",
              " 'sinh',\n",
              " 'sqrt',\n",
              " 'tan',\n",
              " 'tanh',\n",
              " 'tau',\n",
              " 'trunc']"
            ]
          },
          "metadata": {
            "tags": []
          },
          "execution_count": 2
        }
      ]
    },
    {
      "cell_type": "markdown",
      "metadata": {
        "id": "VVVqsKZpCHG1"
      },
      "source": [
        "With **From** statement, you can import specific functions in module. (Note that this doesn't introduce the module name. i.e., in example, ***math*** is not defined.)"
      ]
    },
    {
      "cell_type": "code",
      "metadata": {
        "colab": {
          "base_uri": "https://localhost:8080/"
        },
        "id": "q4n31zulCwP-",
        "outputId": "7d8fcfa8-d310-4f65-992a-7330154a54ad"
      },
      "source": [
        "from math import cos,pi\n",
        "cos(pi)"
      ],
      "execution_count": null,
      "outputs": [
        {
          "output_type": "execute_result",
          "data": {
            "text/plain": [
              "-1.0"
            ]
          },
          "metadata": {
            "tags": []
          },
          "execution_count": 3
        }
      ]
    },
    {
      "cell_type": "markdown",
      "metadata": {
        "id": "81ztNs1bC7NL"
      },
      "source": [
        "If you want to call whole modules by from statement, you can use * symbol"
      ]
    },
    {
      "cell_type": "code",
      "metadata": {
        "colab": {
          "base_uri": "https://localhost:8080/"
        },
        "id": "_h_EJifIDyfB",
        "outputId": "2d12b9c3-025d-45f2-ac38-d40652a8a258"
      },
      "source": [
        "from math import *\n",
        "cos(pi)"
      ],
      "execution_count": null,
      "outputs": [
        {
          "output_type": "execute_result",
          "data": {
            "text/plain": [
              "-1.0"
            ]
          },
          "metadata": {
            "tags": []
          },
          "execution_count": 4
        }
      ]
    },
    {
      "cell_type": "markdown",
      "metadata": {
        "id": "TvC_dxZCqRPr"
      },
      "source": [
        "For example, we can converting polar coordinates to Cartesian coordinates with math module"
      ]
    },
    {
      "cell_type": "code",
      "metadata": {
        "colab": {
          "base_uri": "https://localhost:8080/",
          "height": 70
        },
        "id": "j9YUUGftqvbG",
        "outputId": "c9332db0-6600-4a2f-b5a5-b24942bf8293"
      },
      "source": [
        "from math import *\n",
        "\n",
        "#input r,theta from users\n",
        "r,theta = input('r value? : '),input('theta value? (degree):' )\n",
        "#pretreatment -  set data type \n",
        "r,theta = float(r),float(theta)\n",
        "radtheta = radians(theta)\n",
        "#converting \n",
        "x = r*cos(radtheta)\n",
        "y = r*sin(radtheta)\n",
        "f'The value you entered (r,theta) is {r},{theta} and converted cartesian coordinate (x,y) = {x},{y}'"
      ],
      "execution_count": null,
      "outputs": [
        {
          "output_type": "stream",
          "text": [
            "r value? : 50\n",
            "theta value? (degree):30\n"
          ],
          "name": "stdout"
        },
        {
          "output_type": "execute_result",
          "data": {
            "application/vnd.google.colaboratory.intrinsic+json": {
              "type": "string"
            },
            "text/plain": [
              "'The value you entered (r,theta) is 50.0,30.0 and converted cartesian coordinate (x,y) = 43.30127018922194,24.999999999999996'"
            ]
          },
          "metadata": {
            "tags": []
          },
          "execution_count": 1
        }
      ]
    },
    {
      "cell_type": "markdown",
      "metadata": {
        "id": "oYuW8M9FEivv"
      },
      "source": [
        "In Google Colababoratoy (our environment), there are many pre-built packages but not all. To install (or update) package in Google Colab., we can use **!pip install** ***(package_name)*** statement. \n",
        "For example,\n",
        "\n",
        "    !pip install chart_studio\n",
        "and Coalb takes care of the rest."
      ]
    },
    {
      "cell_type": "code",
      "metadata": {
        "colab": {
          "base_uri": "https://localhost:8080/"
        },
        "id": "nrc_tetBFshq",
        "outputId": "be482acf-4559-49ba-ba13-e85231070848"
      },
      "source": [
        "!pip install chart_studio"
      ],
      "execution_count": null,
      "outputs": [
        {
          "output_type": "stream",
          "text": [
            "Collecting chart_studio\n",
            "\u001b[?25l  Downloading https://files.pythonhosted.org/packages/ca/ce/330794a6b6ca4b9182c38fc69dd2a9cbff60fd49421cb8648ee5fee352dc/chart_studio-1.1.0-py3-none-any.whl (64kB)\n",
            "\r\u001b[K     |█████                           | 10kB 14.1MB/s eta 0:00:01\r\u001b[K     |██████████▏                     | 20kB 11.0MB/s eta 0:00:01\r\u001b[K     |███████████████▎                | 30kB 10.2MB/s eta 0:00:01\r\u001b[K     |████████████████████▍           | 40kB 8.1MB/s eta 0:00:01\r\u001b[K     |█████████████████████████▍      | 51kB 4.3MB/s eta 0:00:01\r\u001b[K     |██████████████████████████████▌ | 61kB 4.6MB/s eta 0:00:01\r\u001b[K     |████████████████████████████████| 71kB 3.5MB/s \n",
            "\u001b[?25hRequirement already satisfied: six in /usr/local/lib/python3.7/dist-packages (from chart_studio) (1.15.0)\n",
            "Requirement already satisfied: plotly in /usr/local/lib/python3.7/dist-packages (from chart_studio) (4.4.1)\n",
            "Requirement already satisfied: retrying>=1.3.3 in /usr/local/lib/python3.7/dist-packages (from chart_studio) (1.3.3)\n",
            "Requirement already satisfied: requests in /usr/local/lib/python3.7/dist-packages (from chart_studio) (2.23.0)\n",
            "Requirement already satisfied: urllib3!=1.25.0,!=1.25.1,<1.26,>=1.21.1 in /usr/local/lib/python3.7/dist-packages (from requests->chart_studio) (1.24.3)\n",
            "Requirement already satisfied: idna<3,>=2.5 in /usr/local/lib/python3.7/dist-packages (from requests->chart_studio) (2.10)\n",
            "Requirement already satisfied: certifi>=2017.4.17 in /usr/local/lib/python3.7/dist-packages (from requests->chart_studio) (2020.12.5)\n",
            "Requirement already satisfied: chardet<4,>=3.0.2 in /usr/local/lib/python3.7/dist-packages (from requests->chart_studio) (3.0.4)\n",
            "Installing collected packages: chart-studio\n",
            "Successfully installed chart-studio-1.1.0\n"
          ],
          "name": "stdout"
        }
      ]
    },
    {
      "cell_type": "markdown",
      "metadata": {
        "id": "Vo6-tVKAEEH3"
      },
      "source": [
        "## 2-2. Built-in functions\n",
        "Python gives some tools names of built-in functions. Such as print, float, int, input, etc is including.\n",
        "\n",
        "These functions are defined in the standard module **builtins**. So you can also check these functions using ***dir(builtins)***"
      ]
    },
    {
      "cell_type": "code",
      "metadata": {
        "colab": {
          "base_uri": "https://localhost:8080/"
        },
        "id": "AESsTtK5D1Tm",
        "outputId": "3de99507-ea46-451a-8396-de3940249715"
      },
      "source": [
        "import builtins\n",
        "dir(builtins)"
      ],
      "execution_count": null,
      "outputs": [
        {
          "output_type": "execute_result",
          "data": {
            "text/plain": [
              "['ArithmeticError',\n",
              " 'AssertionError',\n",
              " 'AttributeError',\n",
              " 'BaseException',\n",
              " 'BlockingIOError',\n",
              " 'BrokenPipeError',\n",
              " 'BufferError',\n",
              " 'BytesWarning',\n",
              " 'ChildProcessError',\n",
              " 'ConnectionAbortedError',\n",
              " 'ConnectionError',\n",
              " 'ConnectionRefusedError',\n",
              " 'ConnectionResetError',\n",
              " 'DeprecationWarning',\n",
              " 'EOFError',\n",
              " 'Ellipsis',\n",
              " 'EnvironmentError',\n",
              " 'Exception',\n",
              " 'False',\n",
              " 'FileExistsError',\n",
              " 'FileNotFoundError',\n",
              " 'FloatingPointError',\n",
              " 'FutureWarning',\n",
              " 'GeneratorExit',\n",
              " 'IOError',\n",
              " 'ImportError',\n",
              " 'ImportWarning',\n",
              " 'IndentationError',\n",
              " 'IndexError',\n",
              " 'InterruptedError',\n",
              " 'IsADirectoryError',\n",
              " 'KeyError',\n",
              " 'KeyboardInterrupt',\n",
              " 'LookupError',\n",
              " 'MemoryError',\n",
              " 'ModuleNotFoundError',\n",
              " 'NameError',\n",
              " 'None',\n",
              " 'NotADirectoryError',\n",
              " 'NotImplemented',\n",
              " 'NotImplementedError',\n",
              " 'OSError',\n",
              " 'OverflowError',\n",
              " 'PendingDeprecationWarning',\n",
              " 'PermissionError',\n",
              " 'ProcessLookupError',\n",
              " 'RecursionError',\n",
              " 'ReferenceError',\n",
              " 'ResourceWarning',\n",
              " 'RuntimeError',\n",
              " 'RuntimeWarning',\n",
              " 'StopAsyncIteration',\n",
              " 'StopIteration',\n",
              " 'SyntaxError',\n",
              " 'SyntaxWarning',\n",
              " 'SystemError',\n",
              " 'SystemExit',\n",
              " 'TabError',\n",
              " 'TimeoutError',\n",
              " 'True',\n",
              " 'TypeError',\n",
              " 'UnboundLocalError',\n",
              " 'UnicodeDecodeError',\n",
              " 'UnicodeEncodeError',\n",
              " 'UnicodeError',\n",
              " 'UnicodeTranslateError',\n",
              " 'UnicodeWarning',\n",
              " 'UserWarning',\n",
              " 'ValueError',\n",
              " 'Warning',\n",
              " 'ZeroDivisionError',\n",
              " '__IPYTHON__',\n",
              " '__build_class__',\n",
              " '__debug__',\n",
              " '__doc__',\n",
              " '__import__',\n",
              " '__loader__',\n",
              " '__name__',\n",
              " '__package__',\n",
              " '__spec__',\n",
              " 'abs',\n",
              " 'all',\n",
              " 'any',\n",
              " 'ascii',\n",
              " 'bin',\n",
              " 'bool',\n",
              " 'breakpoint',\n",
              " 'bytearray',\n",
              " 'bytes',\n",
              " 'callable',\n",
              " 'chr',\n",
              " 'classmethod',\n",
              " 'compile',\n",
              " 'complex',\n",
              " 'copyright',\n",
              " 'credits',\n",
              " 'delattr',\n",
              " 'dict',\n",
              " 'dir',\n",
              " 'display',\n",
              " 'divmod',\n",
              " 'dreload',\n",
              " 'enumerate',\n",
              " 'eval',\n",
              " 'exec',\n",
              " 'filter',\n",
              " 'float',\n",
              " 'format',\n",
              " 'frozenset',\n",
              " 'get_ipython',\n",
              " 'getattr',\n",
              " 'globals',\n",
              " 'hasattr',\n",
              " 'hash',\n",
              " 'help',\n",
              " 'hex',\n",
              " 'id',\n",
              " 'input',\n",
              " 'int',\n",
              " 'isinstance',\n",
              " 'issubclass',\n",
              " 'iter',\n",
              " 'len',\n",
              " 'license',\n",
              " 'list',\n",
              " 'locals',\n",
              " 'map',\n",
              " 'max',\n",
              " 'memoryview',\n",
              " 'min',\n",
              " 'next',\n",
              " 'object',\n",
              " 'oct',\n",
              " 'open',\n",
              " 'ord',\n",
              " 'pow',\n",
              " 'print',\n",
              " 'property',\n",
              " 'range',\n",
              " 'repr',\n",
              " 'reversed',\n",
              " 'round',\n",
              " 'set',\n",
              " 'setattr',\n",
              " 'slice',\n",
              " 'sorted',\n",
              " 'staticmethod',\n",
              " 'str',\n",
              " 'sum',\n",
              " 'super',\n",
              " 'tuple',\n",
              " 'type',\n",
              " 'vars',\n",
              " 'zip']"
            ]
          },
          "metadata": {
            "tags": []
          },
          "execution_count": 7
        }
      ]
    },
    {
      "cell_type": "markdown",
      "metadata": {
        "id": "eX1b0Jmbtz0V"
      },
      "source": [
        "## 2-3 Flow control\n",
        "In python, users can control the work-flow with few statements - ***IF, WHILE, FOR*** are perhaps the most well-known flow control statement. Let's see one by one.  "
      ]
    },
    {
      "cell_type": "markdown",
      "metadata": {
        "id": "JrbvU8Efvgwp"
      },
      "source": [
        "### 2-3-1 ***IF*** statement\n",
        "I think ***If*** statement is probably the most popular statement. ***if*** statement is used for decision making. For instance:"
      ]
    },
    {
      "cell_type": "code",
      "metadata": {
        "colab": {
          "base_uri": "https://localhost:8080/"
        },
        "id": "0YMdAfuf3MEs",
        "outputId": "72ac304e-4093-4ea6-ce07-e3fd16198466"
      },
      "source": [
        "#Case 1.\n",
        "data = input('Please enter a number that is multiples of 3: ')\n",
        "\n",
        "#exception handling with try,except statement - we'll see later.\n",
        "try:\n",
        "    data = int(data)\n",
        "except ValueError:\n",
        "    print(\"PLEASE ENTER A NUMBER ONLY, NOT CHARACTER\")\n",
        "else:\n",
        "    #IF Statement!\n",
        "    if data%3 == 0:\n",
        "        print('Your input {data} is multiples of 3. Thank you.'.format(data=data))\n",
        "    elif data%77 == 0:\n",
        "        print('I especially love multiples of 77 - the number you enetered')\n",
        "    else:\n",
        "        print('Your number {} is not multiples of 3. Try again.'.format(data))"
      ],
      "execution_count": null,
      "outputs": [
        {
          "output_type": "stream",
          "text": [
            "Please enter a number that is multiples of 3: 7777\n",
            "I especially love multiples of 77 - the number you enetered\n"
          ],
          "name": "stdout"
        }
      ]
    },
    {
      "cell_type": "code",
      "metadata": {
        "colab": {
          "base_uri": "https://localhost:8080/"
        },
        "id": "JE096KrY38xt",
        "outputId": "6f59be26-cb02-46cc-a825-ea512ef6ea53"
      },
      "source": [
        "#Case 2.\n",
        "data = input('Please enter a number that is multiples of 3: ')\n",
        "\n",
        "#exception handling with try,except statement - we'll see later.\n",
        "try:\n",
        "    data = int(data)\n",
        "except ValueError:\n",
        "    print(\"PLEASE ENTER A NUMBER ONLY, NOT CHARACTER\")\n",
        "else:\n",
        "    #IF Statement!\n",
        "    if data%3 == 0:\n",
        "        print('Your input {data} is multiples of 3. Thank you.'.format(data=data))\n",
        "    elif data%77 == 0:\n",
        "        print('I especially love multiples of 77 - the number you enetered')\n",
        "    else:\n",
        "        print('Your number {} is not multiples of 3. Try again.'.format(data))"
      ],
      "execution_count": null,
      "outputs": [
        {
          "output_type": "stream",
          "text": [
            "Please enter a number that is multiples of 3: 995\n",
            "Your number 995 is not multiples of 3. Try again.\n"
          ],
          "name": "stdout"
        }
      ]
    },
    {
      "cell_type": "code",
      "metadata": {
        "colab": {
          "base_uri": "https://localhost:8080/"
        },
        "id": "LHjdHVhE4dTZ",
        "outputId": "5d75139b-cdc6-4066-aa4f-9376c81ed2eb"
      },
      "source": [
        "#Case 3.\n",
        "data = input('Please enter a number that is multiples of 3: ')\n",
        "\n",
        "#exception handling with try,except statement - we'll see later.\n",
        "try:\n",
        "    data = int(data)\n",
        "except ValueError:\n",
        "    print(\"PLEASE ENTER A NUMBER ONLY, NOT CHARACTER\")\n",
        "else:\n",
        "    #IF Statement!\n",
        "    if data%3 == 0:\n",
        "        print('Your input {data} is multiples of 3. Thank you.'.format(data=data))\n",
        "    elif data%77 == 0:\n",
        "        print('I e7specially love multiples of 77 - the number you enetered')\n",
        "    else:\n",
        "        print('Your number {} is not multiples of 3. Try again.'.format(data))"
      ],
      "execution_count": null,
      "outputs": [
        {
          "output_type": "stream",
          "text": [
            "Please enter a number that is multiples of 3: 7777\n",
            "I especially love multiples of 77 - the number you enetered\n"
          ],
          "name": "stdout"
        }
      ]
    },
    {
      "cell_type": "code",
      "metadata": {
        "colab": {
          "base_uri": "https://localhost:8080/"
        },
        "id": "FHRQhMg6G_wl",
        "outputId": "b3dbb5eb-1046-4f0e-be24-6fb200ae29f5"
      },
      "source": [
        "#Case 0. exception case\n",
        "data = input('Please enter a number that is multiples of 3: ')\n",
        "\n",
        "#exception handling with try,except statement - we'll see later.\n",
        "try:\n",
        "    data = int(data)\n",
        "except ValueError:\n",
        "    print(\"PLEASE ENTER A NUMBER ONLY, NOT CHARACTER\")\n",
        "else:\n",
        "    #IF Statement!\n",
        "    if data%3 == 0:\n",
        "        print('Your input {data} is multiples of 3. Thank you.'.format(data=data))\n",
        "    elif data%77 == 0:\n",
        "        print('I especially love multiples of 77 - the number you enetered')\n",
        "    else:\n",
        "        print('Your number {} is not multiples of 3. Try again.'.format(data))"
      ],
      "execution_count": null,
      "outputs": [
        {
          "output_type": "stream",
          "text": [
            "Please enter a number that is multiples of 3: 싫은데\n",
            "PLEASE ENTER A NUMBER ONLY, NOT CHARACTER\n"
          ],
          "name": "stdout"
        }
      ]
    },
    {
      "cell_type": "markdown",
      "metadata": {
        "id": "cbUWP2dj4Fpr"
      },
      "source": [
        "In example, We checked how if statement control the workflow. ***If*** condition is **TRUE**, next indentation action is triggered. But the condition is **False**, the next statement is not executed. Instead, ***elif*** statement or ***else*** statement is work in order. ***elif*** means **Else if**. With ***elif*** statement, we can add another conditions. There can be zero or more elif parts, and the ***else*** part is optional. An if … elif … elif … sequence is a substitute for the switch or case statements found in other languages.\n",
        "\n",
        "As the condition of if statement, any operator that returns True or False can be used.\n",
        "\n",
        "Meanwhile, I used ***try***, ***except*** statement - that is used to handle exception cases. In the example **#case 0**, I have to filter non-number input to not raise an error (because ***int()*** can use only in numbers).  If the user entered a non-number value, the program return our warning message rather than a raw error message. Else, we go to the normal process."
      ]
    },
    {
      "cell_type": "markdown",
      "metadata": {
        "id": "xYTKe0OTBAod"
      },
      "source": [
        "###2-3-2 ***While*** statement\n",
        "The ***while*** statement is used for repeated execution as long as an expression is true. You can think this as a loop.\n",
        "\n"
      ]
    },
    {
      "cell_type": "code",
      "metadata": {
        "colab": {
          "base_uri": "https://localhost:8080/"
        },
        "id": "2-_ZlhUCA9Qa",
        "outputId": "b036fbb9-3e52-4637-8033-4b59202d074d"
      },
      "source": [
        "i = 1 \n",
        "while i<10:\n",
        "    print(i)\n",
        "    if i == 3:\n",
        "        break\n",
        "    i += 1"
      ],
      "execution_count": null,
      "outputs": [
        {
          "output_type": "stream",
          "text": [
            "1\n",
            "2\n",
            "3\n"
          ],
          "name": "stdout"
        }
      ]
    },
    {
      "cell_type": "markdown",
      "metadata": {
        "id": "gxrCVf_wE-_j"
      },
      "source": [
        "This repeatedly tests the expression and, if it is true, executes the first suite - ***print(i)***; if the expression is false (which may be the first time it is tested) the suite of the else clause, if present, is executed and the loop terminates.\n",
        "\n",
        "A ***break*** statement executed in the first suite terminates the loop without executing the else clause’s suite. A ***continue*** statement executed in the first suite skips the rest of the suite and goes back to testing the expression."
      ]
    },
    {
      "cell_type": "code",
      "metadata": {
        "id": "BTM28L-oFrP-"
      },
      "source": [
        "i = 1 \n",
        "while i<10:\n",
        "    print(i)\n",
        "    if i == 3:\n",
        "        continue\n",
        "    i += 1"
      ],
      "execution_count": null,
      "outputs": []
    },
    {
      "cell_type": "markdown",
      "metadata": {
        "id": "FS0J2FqTGEfA"
      },
      "source": [
        "As the result of above example, the number 3 will keep print out. i.e.,\n",
        "\n",
        "    3\n",
        "    3\n",
        "    3\n",
        "    3\n",
        "    3\n",
        "    3\n",
        "    ...\n",
        "I don't recommend you to run the above code... but if you are still curious what happened, try it :)\n"
      ]
    },
    {
      "cell_type": "markdown",
      "metadata": {
        "id": "mtQvaXI9G2qj"
      },
      "source": [
        "Another example for while statement - Find the Fibonacci sequence up to n."
      ]
    },
    {
      "cell_type": "code",
      "metadata": {
        "colab": {
          "base_uri": "https://localhost:8080/"
        },
        "id": "iM4Nk3NJF_J6",
        "outputId": "bb39b3f0-5053-4d32-e333-ce77f9ad5fbe"
      },
      "source": [
        "#Find the Fibonacci sequence up to n.\n",
        "n_value = input(\"I'll find you the Fibonacci sequence up to n. Enter integer n value here: \")\n",
        "try:\n",
        "    n = int(n_value)\n",
        "except ValueError:\n",
        "    print(\"PLEASE ENTER A NUMBER ONLY, NOT CHARACTER\")\n",
        "else:\n",
        "    a,b = 1,1\n",
        "    while a<n:\n",
        "        print(a, end='   ')\n",
        "        a,b = b, a+b"
      ],
      "execution_count": null,
      "outputs": [
        {
          "output_type": "stream",
          "text": [
            "I'll find you the Fibonacci sequence up to n. Enter integer n value here: 10000\n",
            "1   1   2   3   5   8   13   21   34   55   89   144   233   377   610   987   1597   2584   4181   6765   "
          ],
          "name": "stdout"
        }
      ]
    },
    {
      "cell_type": "markdown",
      "metadata": {
        "id": "aAViMr3HJKRh"
      },
      "source": [
        "### 2-3-3 ***For*** statement \n",
        "\n",
        "Python’s ***for*** statement iterates over the items of any sequence (a list or a string), in the order that they appear in the sequence."
      ]
    },
    {
      "cell_type": "code",
      "metadata": {
        "id": "ricIhrcWOEYv",
        "colab": {
          "base_uri": "https://localhost:8080/"
        },
        "outputId": "6670b59a-28bf-474e-aeb5-c6520813b481"
      },
      "source": [
        "physicists = ['Einstein','Faraday','Bohr','Schrodinger']\n",
        "for i in physicists:\n",
        "    print(i,len(i))"
      ],
      "execution_count": null,
      "outputs": [
        {
          "output_type": "stream",
          "text": [
            "Einstein 8\n",
            "Faraday 7\n",
            "Bohr 4\n",
            "Schrodinger 11\n"
          ],
          "name": "stdout"
        }
      ]
    },
    {
      "cell_type": "markdown",
      "metadata": {
        "id": "mkxiZ-Uk_TCP"
      },
      "source": [
        "By using ***range()*** fucntion, you can iterate over a sequence of numbers. It generates arithmetic progressions."
      ]
    },
    {
      "cell_type": "code",
      "metadata": {
        "colab": {
          "base_uri": "https://localhost:8080/"
        },
        "id": "H-7G3QNq_eaj",
        "outputId": "340b0247-7489-4135-82a5-afbb86a016a9"
      },
      "source": [
        "for i in range(5):\n",
        "    print(i)\n",
        "\n",
        "#you can give start point and end point.\n",
        "\n",
        "for i in range(10,15):\n",
        "    print(i)"
      ],
      "execution_count": null,
      "outputs": [
        {
          "output_type": "stream",
          "text": [
            "0\n",
            "1\n",
            "2\n",
            "3\n",
            "4\n",
            "10\n",
            "11\n",
            "12\n",
            "13\n",
            "14\n"
          ],
          "name": "stdout"
        }
      ]
    },
    {
      "cell_type": "markdown",
      "metadata": {
        "id": "-6TvXmwu_0Vo"
      },
      "source": [
        "We say such an object is iterable, that is, suitable as a target ***for*** functions and constructs that expect something from which they can obtain successive items until the supply is exhausted. We have seen that the ***for*** statement is such a construct, while an example of a function that takes an iterable is ***sum()***:"
      ]
    },
    {
      "cell_type": "code",
      "metadata": {
        "colab": {
          "base_uri": "https://localhost:8080/"
        },
        "id": "XA_UmGU9ACvu",
        "outputId": "15dbf60e-772e-42d5-e522-84f466f0175f"
      },
      "source": [
        "print(sum(range(4)))   # 0+1+2+3 = 6\n",
        "print(sum(range(5,10)))   # 5+6+7+8+9 = 35\n",
        "\n",
        "print(list(range(20,30))) # make list with numbers in range 20~29"
      ],
      "execution_count": null,
      "outputs": [
        {
          "output_type": "stream",
          "text": [
            "6\n",
            "35\n",
            "[20, 21, 22, 23, 24, 25, 26, 27, 28, 29]\n"
          ],
          "name": "stdout"
        }
      ]
    },
    {
      "cell_type": "markdown",
      "metadata": {
        "id": "P292zA39I3k2"
      },
      "source": [
        "## 2-4. Data Types\n",
        "We'll see rest of data types.\n",
        "\n",
        "*  Numbers\n",
        "*  String\n",
        "*  **List**\n",
        "*  **Tuple**\n",
        "*  **Dictionary**"
      ]
    },
    {
      "cell_type": "markdown",
      "metadata": {
        "id": "Pplak1LnJD7b"
      },
      "source": [
        "### 2-4-1 List\n",
        "List is the most basic type of container which can be written as a list of comma-separated values (items) between square brackets. Lists might contain items of different types, but usually the items all have the same type.\n"
      ]
    },
    {
      "cell_type": "code",
      "metadata": {
        "colab": {
          "base_uri": "https://localhost:8080/"
        },
        "id": "KE-_Om2-KM4O",
        "outputId": "5d560b8e-c5c5-475e-feb5-027cbb17d9a9"
      },
      "source": [
        "fibo=[1,1,2,3,5,8,13,21]\n",
        "print(fibo)"
      ],
      "execution_count": null,
      "outputs": [
        {
          "output_type": "stream",
          "text": [
            "[1, 1, 2, 3, 5, 8, 13, 21]\n"
          ],
          "name": "stdout"
        }
      ]
    },
    {
      "cell_type": "markdown",
      "metadata": {
        "id": "XheAz_eUKXcz"
      },
      "source": [
        "lists can be indexed and sliced:"
      ]
    },
    {
      "cell_type": "code",
      "metadata": {
        "colab": {
          "base_uri": "https://localhost:8080/"
        },
        "id": "T9zNuKTRKWae",
        "outputId": "6db17d40-7db7-408d-ff32-1f0d78d39f04"
      },
      "source": [
        "print(fibo[0]) # indexing returns the item - start from 0\n",
        "print(fibo[-1]) # minus index returns the item in reverse order\n",
        "print(fibo[-3:])  # slicing returns a new list"
      ],
      "execution_count": null,
      "outputs": [
        {
          "output_type": "stream",
          "text": [
            "1\n",
            "21\n",
            "[8, 13, 21]\n"
          ],
          "name": "stdout"
        }
      ]
    },
    {
      "cell_type": "markdown",
      "metadata": {
        "id": "BI9OvAssK1B-"
      },
      "source": [
        "Lists also support operations like concatenation:"
      ]
    },
    {
      "cell_type": "code",
      "metadata": {
        "colab": {
          "base_uri": "https://localhost:8080/"
        },
        "id": "x8jBT-CTLCWe",
        "outputId": "06caf5cf-5b54-4a3d-b4dc-d56febf0bd20"
      },
      "source": [
        "print(fibo + [6,9,12])"
      ],
      "execution_count": null,
      "outputs": [
        {
          "output_type": "stream",
          "text": [
            "[1, 1, 2, 3, 5, 8, 13, 21, 6, 9, 12]\n"
          ],
          "name": "stdout"
        }
      ]
    },
    {
      "cell_type": "markdown",
      "metadata": {
        "id": "_KnKc0z8LNsp"
      },
      "source": [
        "Unlike strings, which are immutable, lists are a **mutable** type, i.e., it is possible to change their content:\n",
        "\n"
      ]
    },
    {
      "cell_type": "code",
      "metadata": {
        "colab": {
          "base_uri": "https://localhost:8080/"
        },
        "id": "6vm6c_oLLM5k",
        "outputId": "25c60e8a-41c1-4656-d0b6-c9619e5144e7"
      },
      "source": [
        "wrong_fibo=[1,1,2,3,5,8,13,22] #wrong value here\n",
        "wrong_fibo[-1] = 21 #replace 22 to 21\n",
        "print(wrong_fibo)"
      ],
      "execution_count": null,
      "outputs": [
        {
          "output_type": "stream",
          "text": [
            "[1, 1, 2, 3, 5, 8, 13, 21]\n"
          ],
          "name": "stdout"
        }
      ]
    },
    {
      "cell_type": "markdown",
      "metadata": {
        "id": "q_ez5Dt7T2pC"
      },
      "source": [
        "The built-in function ***len()*** can applies to lists:\n",
        "\n"
      ]
    },
    {
      "cell_type": "code",
      "metadata": {
        "colab": {
          "base_uri": "https://localhost:8080/"
        },
        "id": "iEvQXPWuT_0G",
        "outputId": "57d85489-9576-4695-9c49-203fe532e225"
      },
      "source": [
        "numbers=[1,2,3,4,5]\n",
        "print(len(numbers))"
      ],
      "execution_count": null,
      "outputs": [
        {
          "output_type": "stream",
          "text": [
            "5\n"
          ],
          "name": "stdout"
        }
      ]
    },
    {
      "cell_type": "markdown",
      "metadata": {
        "id": "IoF5v9TYLsu-"
      },
      "source": [
        "You can also add new items at the end of the list, by using the ***list.append()*** method. The item will be add to the end of the list. Equivalent to a  [len(a):] = [x].\n",
        "\n",
        "Assignment to slices is also possible, and this can even change the size of the list or clear it entirely.\n",
        "\n",
        "\n",
        "Also, It is possible to nest lists (create lists containing other lists), for example:\n",
        "\n",
        "\n",
        "\n",
        "\n"
      ]
    },
    {
      "cell_type": "code",
      "metadata": {
        "colab": {
          "base_uri": "https://localhost:8080/"
        },
        "id": "ehlDFO4fLusK",
        "outputId": "acec1e9f-0bf9-4ed6-f068-3e3005d4c417"
      },
      "source": [
        "numbers = [1,2,3,4,5,6,7,8,9,10]\n",
        "print(numbers)\n",
        "numbers.append(999)\n",
        "print(numbers)\n",
        "numbers.append([77,88,99,111]) #containg list\n",
        "print(numbers)\n",
        "print(numbers[-1]) #print appeded list\n",
        "print(numbers[-1][0]) #print appended list's first element\n",
        "numbers[2:5] = [11,21,31,41,51]\n",
        "print(numbers)\n",
        "numbers[2:5] = []\n",
        "print(numbers)\n",
        "numbers[:] = []\n",
        "print(numbers)"
      ],
      "execution_count": null,
      "outputs": [
        {
          "output_type": "stream",
          "text": [
            "[1, 2, 3, 4, 5, 6, 7, 8, 9, 10]\n",
            "[1, 2, 3, 4, 5, 6, 7, 8, 9, 10, 999]\n",
            "[1, 2, 3, 4, 5, 6, 7, 8, 9, 10, 999, [77, 88, 99, 111]]\n",
            "[77, 88, 99, 111]\n",
            "77\n",
            "[1, 2, 11, 21, 31, 41, 51, 6, 7, 8, 9, 10, 999, [77, 88, 99, 111]]\n",
            "[1, 2, 41, 51, 6, 7, 8, 9, 10, 999, [77, 88, 99, 111]]\n",
            "[]\n"
          ],
          "name": "stdout"
        }
      ]
    },
    {
      "cell_type": "markdown",
      "metadata": {
        "id": "yThsQNfcT7Iz"
      },
      "source": [
        "The list data type has some more methods. Here are all of the methods of list objects:\n",
        "\n",
        "*    ***list.extend(iterable)***\n",
        ">    Extend the list by appending all the items from the iterable. Equivalent to a [len(a):] = iterable.\n",
        "\n",
        "*    ***list.insert(i, x)***\n",
        ">    Insert an item at a given position. The first argument is the index of the element before which to insert, so ***a.insert(0, x)*** inserts at the front of the list, and ***a.insert(len(a), x)*** is equivalent to ***a.append(x)***.\n",
        "\n",
        "*    ***list.remove(x)***\n",
        ">    Remove the first item from the list whose value is equal to x. It raises a ValueError if there is no such item.\n",
        "\n",
        "*    ***list.pop([i])***\n",
        ">    Remove the item at the given position in the list, and return it. If no index is specified, ***a.pop()*** removes and returns the last item in the list. (The square brackets around the i in the method signature denote that the parameter is *optional*, not that you should type square brackets at that position.)\n",
        "\n",
        "*    ***list.clear()***\n",
        ">    Remove all items from the list. Equivalent to del a[:].\n",
        "\n",
        "*    ***list.index(x[, start[, end]])***\n",
        ">    Return zero-based index in the list of the first item whose value is equal to x. Raises a ValueError if there is no such item. The optional arguments start and end are interpreted as in the slice notation and are used to limit the search to a particular subsequence of the list. The returned index is computed relative to the beginning of the full sequence rather than the start argument.\n",
        "\n",
        "*    ***list.count(x)*** \n",
        ">    Return the number of times x appears in the list.\n",
        "\n",
        "*    ***list.sort(*, key=None, reverse=False)*** \n",
        ">    Sort the items of the list in place (the arguments can be used for sort customization, see sorted() for their explanation).\n",
        "\n",
        "*    ***list.reverse()***\n",
        ">    Reverse the elements of the list in place.\n",
        "\n",
        "*    ***list.copy()***\n",
        ">    Return a shallow copy of the list. Equivalent to a[:].\n",
        "\n",
        "Check next example"
      ]
    },
    {
      "cell_type": "code",
      "metadata": {
        "colab": {
          "base_uri": "https://localhost:8080/"
        },
        "id": "Ek5v351dYTuC",
        "outputId": "abad74e3-fabc-402b-87d4-ce52ce0e9eea"
      },
      "source": [
        "subjects = ['Physics','Physics','Computational Physics','Quantum Mechanics','Electrodynamics','Condensed Matter Physics', 'Quantum Computing', 'Physics' ]\n",
        "print(subjects.count('Physics'))\n",
        "print(subjects.count('Classical Dynamics'))\n",
        "print(subjects.index('Physics'))\n",
        "print(subjects.index('Physics',3,8))\n",
        "subjects.reverse()\n",
        "print(subjects)\n",
        "subjects.sort()\n",
        "print(subjects)\n",
        "print(subjects.pop())\n",
        "print(subjects.pop(1))"
      ],
      "execution_count": null,
      "outputs": [
        {
          "output_type": "stream",
          "text": [
            "3\n",
            "0\n",
            "0\n",
            "7\n",
            "['Physics', 'Quantum Computing', 'Condensed Matter Physics', 'Electrodynamics', 'Quantum Mechanics', 'Computational Physics', 'Physics', 'Physics']\n",
            "['Computational Physics', 'Condensed Matter Physics', 'Electrodynamics', 'Physics', 'Physics', 'Physics', 'Quantum Computing', 'Quantum Mechanics']\n",
            "Quantum Mechanics\n",
            "Condensed Matter Physics\n"
          ],
          "name": "stdout"
        }
      ]
    },
    {
      "cell_type": "markdown",
      "metadata": {
        "id": "v-6FvKcBsnxI"
      },
      "source": [
        "If list have elements as numbers, we can apply arithmetic built-in-functions."
      ]
    },
    {
      "cell_type": "code",
      "metadata": {
        "colab": {
          "base_uri": "https://localhost:8080/"
        },
        "id": "TmdHuEOduM1d",
        "outputId": "a31b68a3-a2b1-4e90-8e24-5824822e35b0"
      },
      "source": [
        "r = [1.0, 1.5, 2.2, 4.0]\n",
        "total = sum(r)\n",
        "print(total)\n",
        "\n",
        "mean = sum(r)/len(r)\n",
        "print(mean)\n",
        "\n",
        "print(max(r),min(r))"
      ],
      "execution_count": null,
      "outputs": [
        {
          "output_type": "stream",
          "text": [
            "8.7\n",
            "2.175\n",
            "4.0 1.0\n"
          ],
          "name": "stdout"
        }
      ]
    },
    {
      "cell_type": "markdown",
      "metadata": {
        "id": "vt3A_RDawzqv"
      },
      "source": [
        "To apply other arithmetic functions on list elements, we have to use ***map(func, *iterables)***.\n",
        "\n",
        "This make an iterator that computes the function using arguments from\n",
        "each of the iterables. Stops when the shortest iterable is exhausted."
      ]
    },
    {
      "cell_type": "code",
      "metadata": {
        "colab": {
          "base_uri": "https://localhost:8080/"
        },
        "id": "K4dcknlzuncs",
        "outputId": "be2580ab-1f9b-4525-f6d0-cff109e95e2f"
      },
      "source": [
        "from math import log,sqrt,cos,radians\n",
        "\n",
        "r = [1.0, 4.0, 9.0, 16.0]\n",
        "\n",
        "print(list(map(log,r)))\n",
        "\n",
        "print(list(map(sqrt,r)))\n",
        "\n",
        "print(list(map(cos,r)))\n",
        "\n",
        "print(list(map(radians,r)))"
      ],
      "execution_count": null,
      "outputs": [
        {
          "output_type": "stream",
          "text": [
            "[0.0, 1.3862943611198906, 2.1972245773362196, 2.772588722239781]\n",
            "[1.0, 2.0, 3.0, 4.0]\n",
            "[0.5403023058681398, -0.6536436208636119, -0.9111302618846769, -0.9576594803233847]\n",
            "[0.017453292519943295, 0.06981317007977318, 0.15707963267948966, 0.2792526803190927]\n"
          ],
          "name": "stdout"
        }
      ]
    },
    {
      "cell_type": "markdown",
      "metadata": {
        "id": "ZWz5VKjteHSv"
      },
      "source": [
        "### 2-4-2 Array\n",
        "Actually, there is no 'array' data type in python. An array is a variable that can store multiple values in the C language. Since many C language users demand 'array', Python provide 'array' built-in module. Or you can use array with third-party module such as **Numpy**. \n",
        "\n",
        "**Array** module defines an object type which can compactly represent an array of basic values: characters, integers, floating point numbers. Arrays are sequence types and behave very much like lists, except that **the type of objects stored in them is constrained**. The type is specified at object creation time by using a type code, which is a single character. The following type codes are defined:\n",
        "\n",
        "Type code | C Type | Python Type\n",
        "--- | --- | ---\n",
        "'b' | Signed char\t\t | int\n",
        "'B' | unsigned char\t\t | int\n",
        "'u' | wchar_t\t | Unicode character\n",
        "'h' | signed short\t\t | int\n",
        "'H' | unsigned short\t\t | int\n",
        "'i' |signed int\t\t | int\n",
        "'I' (caprital i) |unsigned int\t\t | int\n",
        "'l' (small L)|signed long\t\t | int\n",
        "'L' |unsigned long\t\t | int\n",
        "'q' |signed long long\t\t | int\n",
        "'Q' |unsigned long long\t\t | int\n",
        "'f' |float\t\t | float\n",
        "'d' |double\t\t | float\n",
        "\n",
        "----\n",
        "Array objects support the ordinary sequence operations of indexing, slicing, concatenation, and multiplication. When using slice assignment, the assigned value must be an array object with the same type code; in all other cases, TypeError is raised. \n",
        "\n",
        "You can declare array like this.\n",
        "``` python\n",
        "    from array import *\n",
        "    arrayName = array(type, [Values])\n",
        "```\n",
        "\n",
        "Python has a set of built-in methods that you can use on lists/arrays.\n",
        "\n",
        "Method | Description\n",
        "--- | --- \n",
        "array.append() |Adds an element at the end of the list\n",
        "array.clear() | Removes all the elements from the list\n",
        "array.copy() | Returns a copy of the list\n",
        "array.count() | Returns the number of elements with the specified value\n",
        "array.extend() |Add the elements of a list (or any iterable), to the end of the current list\n",
        "array.index() |Returns the index of the first element with the specified value\n",
        "array.insert() |Adds an element at the specified position \n",
        "array.pop()|Removes the element at the specified position\n",
        "array.remove() |Removes the first item with the specified value\n",
        "array.reverse() |Reverses the order of the list\t \n",
        "array.sort() |Sorts the list\t\t \t \n",
        "\n",
        "\n",
        "\n",
        "---\n",
        "\n",
        "\n",
        "Let's check example below"
      ]
    },
    {
      "cell_type": "code",
      "metadata": {
        "colab": {
          "base_uri": "https://localhost:8080/"
        },
        "id": "ZC73fMZHDL8b",
        "outputId": "092527ab-5ec0-494c-b3fb-50dde0796e95"
      },
      "source": [
        "from array import *\n",
        "\n",
        "myarray = array('i',[1,2,3,3,4,5])\n",
        "print(myarray)\n",
        "print(myarray.typecode) #check myarray's type code\n",
        "print(myarray[0])\n",
        "print(myarray.count(3))\n",
        "myarray.insert(1,50) # insert number '50' 2nd position in array\n",
        "print(myarray)\n",
        "myarray.remove(3) # you have to specify name of member, not index number\n",
        "print(myarray)\n",
        "print(myarray.index(50)) # This is a function to search index values through values.\n",
        "myarray[1] = 30 # You can update element's value through index number\n",
        "print(myarray)"
      ],
      "execution_count": null,
      "outputs": [
        {
          "output_type": "stream",
          "text": [
            "array('i', [1, 2, 3, 3, 4, 5])\n",
            "i\n",
            "1\n",
            "2\n",
            "array('i', [1, 50, 2, 3, 3, 4, 5])\n",
            "array('i', [1, 50, 2, 3, 4, 5])\n",
            "1\n",
            "array('i', [1, 30, 2, 3, 4, 5])\n"
          ],
          "name": "stdout"
        }
      ]
    },
    {
      "cell_type": "markdown",
      "metadata": {
        "id": "KoJfrJ5mIwUb"
      },
      "source": [
        "Here is Array's several significant advantages :\n",
        "1. Arrays can be two-dimensional, like matrices in algebra. Lists are always just one-dimensional.\n",
        "2. Arrays behave roughly like **vectors** or **matrices**: you can do arithmetic with them, such as adding them together. \n",
        "3. Arrays work faster than lists."
      ]
    },
    {
      "cell_type": "code",
      "metadata": {
        "colab": {
          "base_uri": "https://localhost:8080/"
        },
        "id": "-_RA1UTMJBCO",
        "outputId": "edd6d332-f75a-46c9-8882-d2df12e50dca"
      },
      "source": [
        "from numpy import zeros,ones,empty\n",
        "a= zeros(4,float)\n",
        "print(a)\n",
        "b = zeros([6,7],float) # Two-dimensional float array \n",
        "print(b)\n",
        "c = ones([6,7],float)\n",
        "print(c)\n",
        "d = empty([6,7],float)\n",
        "print(d)  "
      ],
      "execution_count": null,
      "outputs": [
        {
          "output_type": "stream",
          "text": [
            "[0. 0. 0. 0.]\n",
            "[[0. 0. 0. 0. 0. 0. 0.]\n",
            " [0. 0. 0. 0. 0. 0. 0.]\n",
            " [0. 0. 0. 0. 0. 0. 0.]\n",
            " [0. 0. 0. 0. 0. 0. 0.]\n",
            " [0. 0. 0. 0. 0. 0. 0.]\n",
            " [0. 0. 0. 0. 0. 0. 0.]]\n",
            "[[1. 1. 1. 1. 1. 1. 1.]\n",
            " [1. 1. 1. 1. 1. 1. 1.]\n",
            " [1. 1. 1. 1. 1. 1. 1.]\n",
            " [1. 1. 1. 1. 1. 1. 1.]\n",
            " [1. 1. 1. 1. 1. 1. 1.]\n",
            " [1. 1. 1. 1. 1. 1. 1.]]\n",
            "[[1. 1. 1. 1. 1. 1. 1.]\n",
            " [1. 1. 1. 1. 1. 1. 1.]\n",
            " [1. 1. 1. 1. 1. 1. 1.]\n",
            " [1. 1. 1. 1. 1. 1. 1.]\n",
            " [1. 1. 1. 1. 1. 1. 1.]\n",
            " [1. 1. 1. 1. 1. 1. 1.]]\n"
          ],
          "name": "stdout"
        }
      ]
    },
    {
      "cell_type": "markdown",
      "metadata": {
        "id": "PXCSIzJFAq35"
      },
      "source": [
        "You could also make 2-Dimensional array with **Numpy** module. With Numpy's N-dimensional array function - An ndarray. ndarray is a multidimensional container of items of the same type and size. You can construct array like : \n",
        "```python\n",
        "ndarray(shape[, dtype, buffer, offset, …])\n",
        "```"
      ]
    },
    {
      "cell_type": "code",
      "metadata": {
        "id": "jTUYHgIRNaZu",
        "colab": {
          "base_uri": "https://localhost:8080/"
        },
        "outputId": "89128b1c-8755-4235-a63f-ab6836085de7"
      },
      "source": [
        "import numpy as np\n",
        "\n",
        "x = np.array([[1, 2, 3], [4, 5, 6]], np.int32)\n",
        "y = np.array([[7, 0, 0], [0, 7, 0],[0,0,7]], np.int32)\n",
        "z= np.array([1,2,3,4],np.int32)\n",
        "\n",
        "print('type',type(x))\n",
        "print('size',x.size)\n",
        "print('shape',x.shape)\n",
        "print('dtype',x.dtype)\n",
        "print('itemszie',x.itemsize)\n",
        "\n",
        "print('x',x)\n",
        "print('x_min',x.min())\n",
        "print('x_max',x.max())\n",
        "print('x transpose',x.T) #transpose\n",
        "print('y',y)\n",
        "print(np.dot(x,y)) #dot product\n",
        "print('z',z)\n",
        "print('z,sum()',z.sum())\n",
        "\n",
        "print('z+1',z+1)\n",
        "print(2*x)\n",
        "\n",
        "\n",
        "#example in ppt\n",
        "a=np.array([[1,3],[2,4]],np.int32)\n",
        "b=np.array([[4,-2],[-3,1]],np.int32)\n",
        "c=np.array([[1,2],[2,1]],np.int32)\n",
        "\n",
        "print(np.dot(a,b)+2*c)"
      ],
      "execution_count": null,
      "outputs": [
        {
          "output_type": "stream",
          "text": [
            "type <class 'numpy.ndarray'>\n",
            "size 6\n",
            "shape (2, 3)\n",
            "dtype int32\n",
            "itemszie 4\n",
            "x [[1 2 3]\n",
            " [4 5 6]]\n",
            "x_min 1\n",
            "x_max 6\n",
            "x transpose [[1 4]\n",
            " [2 5]\n",
            " [3 6]]\n",
            "y [[7 0 0]\n",
            " [0 7 0]\n",
            " [0 0 7]]\n",
            "[[ 7 14 21]\n",
            " [28 35 42]]\n",
            "z [1 2 3 4]\n",
            "z,sum() 10\n",
            "z+1 [2 3 4 5]\n",
            "[[ 2  4  6]\n",
            " [ 8 10 12]]\n",
            "[[-3  5]\n",
            " [ 0  2]]\n"
          ],
          "name": "stdout"
        }
      ]
    },
    {
      "cell_type": "markdown",
      "metadata": {
        "id": "7KCcxR9pOjR7"
      },
      "source": [
        "For more information, [Check this document](https://numpy.org/doc/stable/reference/arrays.ndarray.html)"
      ]
    },
    {
      "cell_type": "markdown",
      "metadata": {
        "id": "fy19CnvbeJEU"
      },
      "source": [
        "### 2-4-3 Tuple\n",
        "Tuples are immutable sequences, typically used to store collections of heterogeneous data (such as the 2-tuples produced by the enumerate() built-in). Tuples are also used for cases where an immutable sequence of homogeneous data is needed (such as allowing storage in a set or dict instance).\n",
        "\n",
        "Tuples may be constructed in a number of ways:\n",
        "\n",
        "*    Using a pair of parentheses to denote the empty tuple: ()\n",
        "\n",
        "*    Using a trailing comma for a singleton tuple: a, or (a,)\n",
        "\n",
        "*    Separating items with commas: a, b, c or (a, b, c)\n",
        "\n",
        "*    Using the tuple() built-in: tuple() or tuple(iterable)\n",
        "\n",
        "The constructor builds a tuple whose items are the same and in the same order as iterable’s items. iterable may be either a sequence, a container that supports iteration, or an iterator object. If iterable is already a tuple, it is returned unchanged. For example, tuple('abc') returns ('a', 'b', 'c') and tuple( [1, 2, 3] ) returns (1, 2, 3). If no argument is given, the constructor creates a new empty tuple, ().\n",
        "\n",
        "Note that it is actually the comma which makes a tuple, not the parentheses. The parentheses are optional, except in the empty tuple case, or when they are needed to avoid syntactic ambiguity. For example, f(a, b, c) is a function call with three arguments, while f((a, b, c)) is a function call with a 3-tuple as the sole argument.\n",
        "\n",
        "Tuples implement all of the common sequence operations.\n"
      ]
    },
    {
      "cell_type": "code",
      "metadata": {
        "colab": {
          "base_uri": "https://localhost:8080/"
        },
        "id": "hEkbxcvvPpGr",
        "outputId": "87c86d26-78cf-4edb-87f7-7f4fdef6a7e0"
      },
      "source": [
        "t = 12345, 54321, 'hello!'\n",
        "print(t[0])\n",
        "\n",
        "print(t)\n",
        "\n",
        "# Tuples may be nested:\n",
        "u = t, (1, 2, 3, 4, 5)\n",
        "print(u)\n",
        "\n",
        "\n",
        "#they can contain mutable objects:\n",
        "v = ([1, 2, 3], [3, 2, 1])\n",
        "print(v)\n",
        "\n",
        "empty = ()\n",
        "singleton = 'hello',    # <-- note trailing comma\n",
        "print(len(empty))\n",
        "print(len(singleton))\n",
        "print(singleton)"
      ],
      "execution_count": null,
      "outputs": [
        {
          "output_type": "stream",
          "text": [
            "12345\n",
            "(12345, 54321, 'hello!')\n",
            "((12345, 54321, 'hello!'), (1, 2, 3, 4, 5))\n",
            "([1, 2, 3], [3, 2, 1])\n",
            "0\n",
            "1\n",
            "('hello',)\n"
          ],
          "name": "stdout"
        }
      ]
    },
    {
      "cell_type": "markdown",
      "metadata": {
        "id": "mQ1D9fvFeSUA"
      },
      "source": [
        "### 2-4-4 Dictionary\n",
        "\n",
        "Another useful data type built into Python is the dictionary. \n",
        "\n",
        "It is best to think of a dictionary as a set of key: value pairs, with the requirement that the keys are unique (within one dictionary). A pair of braces creates an empty dictionary: {}. Placing a comma-separated list of key:value pairs within the braces adds initial key:value pairs to the dictionary; this is also the way dictionaries are written on output.\n",
        "\n",
        "The main operations on a dictionary are storing a value with some key and extracting the value given the key. It is also possible to delete a key:value pair with del. If you store using a key that is already in use, the old value associated with that key is forgotten. It is an error to extract a value using a non-existent key.\n",
        "\n",
        "Performing list(d) on a dictionary returns a list of all the keys used in the dictionary, in insertion order (if you want it sorted, just use sorted(d) instead). To check whether a single key is in the dictionary, use the in keyword.\n",
        "\n",
        "Here is a small example using a dictionary:"
      ]
    },
    {
      "cell_type": "code",
      "metadata": {
        "colab": {
          "base_uri": "https://localhost:8080/"
        },
        "id": "pggBZ035NZ1L",
        "outputId": "13c9a657-ca40-477b-e548-24b586f1dd42"
      },
      "source": [
        "tel = {'jack': 4098, 'sape': 4139}\n",
        "tel['guido'] = 4127\n",
        "print(tel)\n",
        "print(tel['jack'])\n",
        "del tel['sape']\n",
        "tel['irv'] = 4127\n",
        "print(tel)\n",
        "print(list(tel))\n",
        "print(sorted(tel))\n",
        "print('guido' in tel)\n",
        "print('jack' not in tel)\n",
        "\n",
        "tell =  dict([('sape', 4139), ('guido', 4127), ('jack', 4098)])\n",
        "print(tell)\n",
        "\n",
        "k = {x: x**2 for x in (2, 4, 6)}\n",
        "print(k)"
      ],
      "execution_count": null,
      "outputs": [
        {
          "output_type": "stream",
          "text": [
            "{'jack': 4098, 'sape': 4139, 'guido': 4127}\n",
            "4098\n",
            "{'jack': 4098, 'guido': 4127, 'irv': 4127}\n",
            "['jack', 'guido', 'irv']\n",
            "['guido', 'irv', 'jack']\n",
            "True\n",
            "False\n",
            "{'sape': 4139, 'guido': 4127, 'jack': 4098}\n",
            "{2: 4, 4: 16, 6: 36}\n"
          ],
          "name": "stdout"
        }
      ]
    },
    {
      "cell_type": "markdown",
      "metadata": {
        "id": "vzS6qIUmoL9w"
      },
      "source": [
        "##3. Examples\n",
        "In this section, I'll calculate Mean, Mean-square, Geometric mean, Harmonic mean for values.txt file with using ***For*** statement.\n",
        "\n",
        "The Definition of Generalized mean is as below.\n",
        "\n",
        "$$ \\bar{x}(m) = (\\frac{1}{n} \\cdot \\sum_{i=1}^{n}x_i^{m})^{\\frac{1}{m}}$$ \n",
        "where $m$ is a non-zero real number and $x_i$ are positive real numbers.\n",
        "$$ m\\rightarrow \\infty : \\quad maximum \\ of \\ x_i \\\\ m=2 : \\quad quadratic \\ mean \\\\ m=1 : \\quad arithmetic \\ mean \\\\ m \\rightarrow 0: \\quad geometric \\ mean \\\\ m = -1: \\quad harmonic \\ mean \\\\ m \\rightarrow -\\infty: \\quad minimum \\ of \\ x_i $$"
      ]
    },
    {
      "cell_type": "code",
      "metadata": {
        "colab": {
          "base_uri": "https://localhost:8080/"
        },
        "id": "XQsHaCHWoxnq",
        "outputId": "51a4df11-c4b6-4e1b-a615-221670ec4286"
      },
      "source": [
        "#Mount Google Drive\n",
        "from google.colab import drive\n",
        "drive.mount('/content/drive')"
      ],
      "execution_count": null,
      "outputs": [
        {
          "output_type": "stream",
          "text": [
            "Mounted at /content/drive\n"
          ],
          "name": "stdout"
        }
      ]
    },
    {
      "cell_type": "code",
      "metadata": {
        "colab": {
          "base_uri": "https://localhost:8080/"
        },
        "id": "UwQ5zD-YoZIb",
        "outputId": "b544556d-23a5-4af8-c8df-fb5ea99112f1"
      },
      "source": [
        "#Load Value file\n",
        "import numpy as np\n",
        "values = np.loadtxt('/content/drive/MyDrive/values.txt',float)\n",
        "print(values.shape, type(values))"
      ],
      "execution_count": null,
      "outputs": [
        {
          "output_type": "stream",
          "text": [
            "(1000,) <class 'numpy.ndarray'>\n"
          ],
          "name": "stdout"
        }
      ]
    },
    {
      "cell_type": "code",
      "metadata": {
        "colab": {
          "base_uri": "https://localhost:8080/"
        },
        "id": "7eJlT4Yu0NI5",
        "outputId": "efb434d9-22d1-4d54-dd14-3f824856742f"
      },
      "source": [
        "n = len(values)\n",
        "quadx_i, aritx_i, harmx_i, geox_i= 0, 0, 0, 0 #initial condition\n",
        "\n",
        "for i in range(0,len(values)):\n",
        "    quadx_i += values[i]**2\n",
        "    aritx_i += values[i]**1\n",
        "    harmx_i += values[i]**-1\n",
        "    geox_i += values[i]**0.00000000001          # we can't describe lim x->0\n",
        "\n",
        "quadratic = ((1/n)*(quadx_i))**(1/2)\n",
        "arithmetic = ((1/n)*(aritx_i))**(1/1)\n",
        "harmonic = ((1/n)*(harmx_i))**(1/-1)\n",
        "geometric = ((1/n)*(geox_i))**(np.inf) # 1/0 = infinity\n",
        "\n",
        "print('quadratic:',quadratic, 'arithmetic:',arithmetic, 'harmonic:',harmonic, 'geometric:', geometric)"
      ],
      "execution_count": null,
      "outputs": [
        {
          "output_type": "stream",
          "text": [
            "quadratic: 0.581706194631797 arithmetic: 0.5028284649993353 harmonic: 0.11795531622472907 geometric: 0.0\n"
          ],
          "name": "stdout"
        }
      ]
    },
    {
      "cell_type": "markdown",
      "metadata": {
        "id": "qHpQd6YCMP2_"
      },
      "source": [
        "By the way, is the geometric mean of values.txt is 0.0? Let's check with built-in module functions."
      ]
    },
    {
      "cell_type": "code",
      "metadata": {
        "colab": {
          "base_uri": "https://localhost:8080/"
        },
        "id": "Z3lNKPWW6Db0",
        "outputId": "7b3d8f0b-5fdd-46ea-f97c-e915b4938d09"
      },
      "source": [
        "#Comparison results with built-in module functions\n",
        "from scipy.stats.mstats import gmean,hmean\n",
        "#quadratic \n",
        "print('quadratic: ',np.sqrt(np.mean(values**2)))\n",
        "#arithmetic\n",
        "print('arithmetic: ',np.mean(values))\n",
        "#geometric\n",
        "print('geometric: ' , gmean(values))\n",
        "#harmonic \n",
        "print('harmonic:', hmean(values))"
      ],
      "execution_count": null,
      "outputs": [
        {
          "output_type": "stream",
          "text": [
            "quadratic:  0.5817061946317968\n",
            "arithmetic:  0.5028284649993354\n",
            "geometric:  0.3679958355128421\n",
            "harmonic: 0.11795531622472909\n"
          ],
          "name": "stdout"
        }
      ]
    },
    {
      "cell_type": "markdown",
      "metadata": {
        "id": "UZhYOo9fMoQ3"
      },
      "source": [
        "Scipy module says the geometric mean is 0.36799..., not 0.0. Why does our Generalized power mean method is not working for geometric mean in python? I think It's beacuse we couldn't describe limitation very well.\n",
        "Let's try another method.\n",
        "\n",
        "Geometric mean is defined as \n",
        "\n",
        "$$ {\\displaystyle \\left(\\prod _{i=1}^{n}x_{i}\\right)^{\\frac {1}{n}}={\\sqrt[{n}]{x_{1}x_{2}\\cdots x_{n}}}} $$\n",
        "\n",
        "Let's try this method."
      ]
    },
    {
      "cell_type": "code",
      "metadata": {
        "colab": {
          "base_uri": "https://localhost:8080/"
        },
        "id": "CAOVcVuILEmy",
        "outputId": "f0229984-7fb2-4c3c-acdd-01ab5ed5a048"
      },
      "source": [
        "n = len(values)\n",
        "geox_i = 1 \n",
        "for i in range(0,len(values)):\n",
        "    geox_i *= values[i]\n",
        "geometric = geox_i**(1/n)\n",
        "print(geometric)\n",
        "#Python can't calculate in this way either..."
      ],
      "execution_count": null,
      "outputs": [
        {
          "output_type": "stream",
          "text": [
            "0.0\n"
          ],
          "name": "stdout"
        }
      ]
    },
    {
      "cell_type": "markdown",
      "metadata": {
        "id": "YIaXSGdkyJEj"
      },
      "source": [
        "The **Generalized power mean** could be generalized further to the **Generalized f-mean** or quasi-arithmetic mean. (It is also called Kolmogorov mean) \n",
        "$$ \\bar{x} = f^{-1} (\\frac{1}{n} \\cdot \\sum_{i=1}^{n} f(x_i))$$\n",
        "We require $f$ to be injective in order for the inverse function ${f^{-1}}$ to exist.\n",
        "\n",
        "$$ f(x) = x : \\quad arithmetic \\ mean \\\\ f(x) = \\frac{1}{x} : \\quad harmonic \\ mean \\\\ f(x) = x^m : \\quad \\ power \\ mean \\\\ f(x) = ln(x) : \\quad geometic \\ mean$$"
      ]
    },
    {
      "cell_type": "code",
      "metadata": {
        "colab": {
          "base_uri": "https://localhost:8080/"
        },
        "id": "_N2x8EOk630p",
        "outputId": "1446820a-9702-439d-9712-3e01ed9e75b4"
      },
      "source": [
        "n = len(values)\n",
        "\n",
        "arisum, harsum, powsum, geosum = 0 , 0, 0, 0\n",
        "\n",
        "for i in range(0,len(values)):\n",
        "    arisum += values[i]\n",
        "    harsum += (1/values[i])\n",
        "    geosum += np.log(values[i])\n",
        "\n",
        "f_arithmetic = ((1/n)*arisum)\n",
        "f_geometric = e**((1/n)*geosum)\n",
        "f_harsum = 1/((1/n) * harsum)\n",
        "\n",
        "print('arithmetic: ',f_arithmetic, 'f_harmonic: ',f_harsum, 'f_geometirc: ',f_geometric) #we can now calculate geometric mean with python!"
      ],
      "execution_count": null,
      "outputs": [
        {
          "output_type": "stream",
          "text": [
            "arithmetic:  0.5028284649993353 f_harmonic:  0.11795531622472907 f_geometirc:  0.36799583551284204\n"
          ],
          "name": "stdout"
        }
      ]
    },
    {
      "cell_type": "markdown",
      "metadata": {
        "id": "06ib50I9zi8O"
      },
      "source": [
        "## References\n",
        "1. https://docs.python.org/3/tutorial/controlflow.html\n",
        "2. https://docs.python.org/3/tutorial/datastructures.html\n",
        "3. https://docs.python.org/3/tutorial/modules.html\n",
        "4. https://docs.python.org/3/tutorial/inputoutput.html\n",
        "5. https://numpy.org/doc/stable/reference/arrays.ndarray.html"
      ]
    }
  ]
}